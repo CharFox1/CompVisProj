{
 "cells": [
  {
   "cell_type": "code",
   "execution_count": 66,
   "metadata": {
    "executionInfo": {
     "elapsed": 833,
     "status": "ok",
     "timestamp": 1620476468832,
     "user": {
      "displayName": "Jason Yang",
      "photoUrl": "",
      "userId": "05115859154386871948"
     },
     "user_tz": 240
    },
    "id": "9WwpRXHGr12Q"
   },
   "outputs": [],
   "source": [
    "import os\n",
    "import cv2\n",
    "import numpy as np"
   ]
  },
  {
   "cell_type": "code",
   "execution_count": 67,
   "metadata": {
    "colab": {
     "base_uri": "https://localhost:8080/"
    },
    "executionInfo": {
     "elapsed": 1108,
     "status": "ok",
     "timestamp": 1620480151635,
     "user": {
      "displayName": "Jason Yang",
      "photoUrl": "",
      "userId": "05115859154386871948"
     },
     "user_tz": 240
    },
    "id": "Iowhk2YRr12W",
    "outputId": "739eb0a5-7d9f-4e36-b541-b04f20cde25f"
   },
   "outputs": [],
   "source": [
    "# file combination code modified from dataset page on kaggle\n",
    "# https://www.kaggle.com/aman10kr/offline-handwritten-text-ocr\n",
    "dir = \"captcha2text/Train/\"\n",
    "train_data = []\n",
    "img_x = 200\n",
    "img_y = 50\n",
    "count = 0\n",
    "\n",
    "for i in os.listdir(dir):\n",
    "    count+=1\n",
    "    if count > 500:\n",
    "        break\n",
    "    img = cv2.imread(os.path.join(dir,i),0)\n",
    "    img = cv2.resize(img,(img_x,img_y))\n",
    "    train_data.append([img,i[:4]])"
   ]
  },
  {
   "cell_type": "code",
   "execution_count": 68,
   "metadata": {
    "colab": {
     "base_uri": "https://localhost:8080/",
     "height": 67
    },
    "executionInfo": {
     "elapsed": 1804,
     "status": "ok",
     "timestamp": 1620480275796,
     "user": {
      "displayName": "Jason Yang",
      "photoUrl": "",
      "userId": "05115859154386871948"
     },
     "user_tz": 240
    },
    "id": "DxP4Nht1ErhD",
    "outputId": "f51d399d-edd8-45c8-e554-d81c6eb9ed4d"
   },
   "outputs": [],
   "source": [
    "cv2.imshow(\"test image\", train_data[123][0])\n",
    "cv2.waitKey(0)\n",
    "cv2.destroyAllWindows()"
   ]
  },
  {
   "cell_type": "code",
   "execution_count": 69,
   "metadata": {
    "colab": {
     "base_uri": "https://localhost:8080/"
    },
    "executionInfo": {
     "elapsed": 1255,
     "status": "ok",
     "timestamp": 1620480156625,
     "user": {
      "displayName": "Jason Yang",
      "photoUrl": "",
      "userId": "05115859154386871948"
     },
     "user_tz": 240
    },
    "id": "Wi78Yq_qr12X",
    "outputId": "2229fd54-22e4-4895-a06f-e224857d66a3"
   },
   "outputs": [
    {
     "name": "stdout",
     "output_type": "stream",
     "text": [
      "[array([[192, 192, 192, ..., 230, 230, 230],\n",
      "       [192, 192, 192, ..., 230, 230, 230],\n",
      "       [192, 229, 192, ..., 230, 230, 230],\n",
      "       ...,\n",
      "       [230, 230, 230, ..., 230, 230, 230],\n",
      "       [230, 230, 230, ..., 230, 230, 230],\n",
      "       [230, 230, 230, ..., 230, 230, 230]], dtype=uint8), '0uai']\n"
     ]
    }
   ],
   "source": [
    "len(train_data)\n",
    "print(train_data[10])"
   ]
  },
  {
   "cell_type": "code",
   "execution_count": 70,
   "metadata": {},
   "outputs": [
    {
     "name": "stdout",
     "output_type": "stream",
     "text": [
      "01se\n",
      "03a1\n",
      "04r5\n",
      "05m4\n",
      "0b3b\n",
      "0gvf\n",
      "0iuj\n",
      "0k59\n",
      "0lbv\n",
      "0tx7\n",
      "0uai\n",
      "0wlz\n",
      "0ws3\n",
      "124a\n",
      "12t1\n",
      "12y1\n",
      "18si\n",
      "1dhy\n",
      "1g53\n",
      "1hnq\n",
      "1j08\n",
      "1lhn\n",
      "1odm\n",
      "1plv\n",
      "1sje\n",
      "1sq5\n",
      "1wff\n",
      "1y13\n",
      "1z7s\n",
      "2209\n",
      "22kf\n",
      "22pq\n",
      "240i\n",
      "262b\n",
      "28mj\n",
      "2a8g\n",
      "2cix\n",
      "2lfc\n",
      "2m6c\n",
      "2n5q\n",
      "2o7w\n",
      "2ovo\n",
      "2qdg\n",
      "2tvf\n",
      "2xs8\n",
      "2zna\n",
      "30yk\n",
      "364e\n",
      "3as1\n",
      "3djd\n",
      "3jxh\n",
      "3l9j\n",
      "3n8e\n",
      "3ntu\n",
      "3o7b\n",
      "3pl4\n",
      "3qxy\n",
      "3t73\n",
      "3v0j\n",
      "3w50\n",
      "3wge\n",
      "3yig\n",
      "41nv\n",
      "44gv\n",
      "47x1\n",
      "48aw\n",
      "4ae6\n",
      "4htx\n",
      "4igu\n",
      "4kaw\n",
      "4v8d\n",
      "4xrg\n",
      "50n0\n",
      "55yd\n",
      "562r\n",
      "5apz\n",
      "5e1d\n",
      "5fkv\n",
      "5kih\n",
      "5kjh\n",
      "5l2d\n",
      "5nlv\n",
      "5olx\n",
      "5rbr\n",
      "5rkz\n",
      "5w3q\n",
      "5z77\n",
      "65ya\n",
      "68dq\n",
      "692z\n",
      "6a99\n",
      "6g46\n",
      "6kuf\n",
      "6lez\n",
      "6p7b\n",
      "6tfd\n",
      "6th4\n",
      "6ygs\n",
      "70uh\n",
      "770l\n",
      "7c3o\n",
      "7cbp\n",
      "7iyb\n",
      "7owi\n",
      "7t0a\n",
      "7te6\n",
      "7u0l\n",
      "7v0c\n",
      "7x1q\n",
      "7yuf\n",
      "7zax\n",
      "83d1\n",
      "86mj\n",
      "89at\n",
      "8arv\n",
      "8c2u\n",
      "8d5g\n",
      "8f7a\n",
      "8fml\n",
      "8kg7\n",
      "8ky0\n",
      "8m5c\n",
      "8ov0\n",
      "8p7n\n",
      "8pxh\n",
      "8rz5\n",
      "8s2c\n",
      "8top\n",
      "8v06\n",
      "8wtl\n",
      "944s\n",
      "94ju\n",
      "96vr\n",
      "97dw\n",
      "980s\n",
      "98dr\n",
      "9am0\n",
      "9k1w\n",
      "9kmq\n",
      "9o0x\n",
      "9src\n",
      "9t0u\n",
      "9tft\n",
      "9wsf\n",
      "9x1i\n",
      "9x5d\n",
      "9xxp\n",
      "9zfd\n",
      "a3ti\n",
      "a82l\n",
      "a8fm\n",
      "abn1\n",
      "aeg5\n",
      "akg7\n",
      "am3o\n",
      "amd8\n",
      "asm3\n",
      "asp9\n",
      "awf5\n",
      "b0ur\n",
      "b4u1\n",
      "b5kj\n",
      "b6ii\n",
      "bh6r\n",
      "bj6n\n",
      "bjr1\n",
      "bl30\n",
      "c948\n",
      "cjo8\n",
      "co5r\n",
      "d0ud\n",
      "d136\n",
      "d1ag\n",
      "d1k0\n",
      "d4gx\n",
      "d5jk\n",
      "d97f\n",
      "dcw3\n",
      "dd2j\n",
      "dlf4\n",
      "dn3c\n",
      "dns8\n",
      "dqq1\n",
      "dst2\n",
      "dyc4\n",
      "e60p\n",
      "ec3j\n",
      "em21\n",
      "enx9\n",
      "f2e1\n",
      "f45o\n",
      "f6j1\n",
      "f82h\n",
      "f82h\n",
      "fa82\n",
      "fav1\n",
      "fis2\n",
      "fm8l\n",
      "fq9f\n",
      "g47e\n",
      "g8wj\n",
      "g9m7\n",
      "gde8\n",
      "gia7\n",
      "gs3h\n",
      "gu2q\n",
      "gv8n\n",
      "gym0\n",
      "gz7y\n",
      "h0rn\n",
      "h44a\n",
      "h5n3\n",
      "h7v3\n",
      "h811\n",
      "h8je\n",
      "h94e\n",
      "h9nw\n",
      "hb5j\n",
      "hgh5\n",
      "hlx9\n",
      "hyj2\n",
      "i68e\n",
      "i6lm\n",
      "i7az\n",
      "ibm6\n",
      "ioy0\n",
      "is2s\n",
      "izi9\n",
      "j0on\n",
      "j12v\n",
      "j1p5\n",
      "j2j6\n",
      "j7no\n",
      "j81r\n",
      "j9kg\n",
      "jfc8\n",
      "jjx3\n",
      "jp8k\n",
      "jux2\n",
      "jyl4\n",
      "k4cm\n",
      "k62k\n",
      "k931\n",
      "ka8r\n",
      "kdg9\n",
      "kf1n\n",
      "ki91\n",
      "klj1\n",
      "kn2r\n",
      "kq84\n",
      "ky76\n",
      "kyd3\n",
      "kz7j\n",
      "l42a\n",
      "l4g5\n",
      "l4mz\n",
      "l63x\n",
      "l71n\n",
      "ld0m\n",
      "ld1l\n",
      "lnq9\n",
      "m8jt\n",
      "m9a4\n",
      "ma0p\n",
      "ma8a\n",
      "mj9j\n",
      "mw39\n",
      "n3k3\n",
      "n7ky\n",
      "nfj8\n",
      "ng29\n",
      "nj1b\n",
      "njo0\n",
      "nq8j\n",
      "nr4x\n",
      "ns7h\n",
      "ns91\n",
      "nx4k\n",
      "o4y8\n",
      "o7st\n",
      "o9q6\n",
      "oa21\n",
      "ocq9\n",
      "oel8\n",
      "ogvf\n",
      "pn99\n",
      "qsi4\n",
      "s2m2\n",
      "sk0r\n",
      "smi8\n",
      "t8tu\n",
      "u57w\n",
      "u7jj\n",
      "u82e\n",
      "ud3v\n",
      "ve1l\n",
      "vhr6\n",
      "vj9y\n",
      "w37f\n",
      "wf42\n",
      "x4n6\n",
      "xq1a\n",
      "y3pw\n",
      "ye72\n",
      "ys9a\n",
      "yu23\n",
      "z2gf\n",
      "z8zt\n"
     ]
    }
   ],
   "source": [
    "for image, label in train_data:\n",
    "    print(label)"
   ]
  },
  {
   "cell_type": "code",
   "execution_count": 71,
   "metadata": {},
   "outputs": [],
   "source": [
    "dir = \"captcha2text/test/\"\n",
    "val_data = []\n",
    "img_x = 200\n",
    "img_y = 50\n",
    "count = 0\n",
    "\n",
    "for i in os.listdir(dir):\n",
    "    count+=1\n",
    "    if count > 500:\n",
    "        break\n",
    "    img = cv2.imread(os.path.join(dir,i),0)\n",
    "    img = cv2.resize(img,(img_x,img_y))\n",
    "    val_data.append([img,i[:4]])"
   ]
  },
  {
   "cell_type": "code",
   "execution_count": 72,
   "metadata": {
    "colab": {
     "base_uri": "https://localhost:8080/"
    },
    "executionInfo": {
     "elapsed": 871,
     "status": "ok",
     "timestamp": 1620480158140,
     "user": {
      "displayName": "Jason Yang",
      "photoUrl": "",
      "userId": "05115859154386871948"
     },
     "user_tz": 240
    },
    "id": "pUFb5QGN7f_m",
    "outputId": "85dc99f9-7aed-4898-82e1-62b33b24c305"
   },
   "outputs": [
    {
     "data": {
      "text/plain": [
       "14"
      ]
     },
     "execution_count": 72,
     "metadata": {},
     "output_type": "execute_result"
    }
   ],
   "source": [
    "len(val_data)"
   ]
  },
  {
   "cell_type": "code",
   "execution_count": 73,
   "metadata": {
    "colab": {
     "base_uri": "https://localhost:8080/"
    },
    "executionInfo": {
     "elapsed": 227,
     "status": "ok",
     "timestamp": 1620442811778,
     "user": {
      "displayName": "Jason Yang",
      "photoUrl": "",
      "userId": "05115859154386871948"
     },
     "user_tz": 240
    },
    "id": "pNWBGnIKr12X",
    "outputId": "b512f07e-b72b-4c2c-dc3b-116d8d9e6691"
   },
   "outputs": [
    {
     "name": "stdout",
     "output_type": "stream",
     "text": [
      "[array([[192, 192, 192, ..., 192, 192, 192],\n",
      "       [192, 213, 238, ..., 237, 213, 192],\n",
      "       [192, 217, 246, ..., 245, 217, 192],\n",
      "       ...,\n",
      "       [192, 217, 246, ..., 245, 217, 192],\n",
      "       [192, 213, 238, ..., 237, 213, 192],\n",
      "       [192, 192, 192, ..., 192, 192, 192]], dtype=uint8), '1z7s']\n"
     ]
    }
   ],
   "source": [
    "print(val_data[1])"
   ]
  },
  {
   "cell_type": "code",
   "execution_count": 74,
   "metadata": {},
   "outputs": [
    {
     "name": "stdout",
     "output_type": "stream",
     "text": [
      "0b3b\n",
      "1z7s\n",
      "262b\n",
      "9am0\n",
      "c5qf\n",
      "f350\n",
      "h9nw\n",
      "is2s\n",
      "kz7j\n",
      "ng29\n",
      "tpy1\n",
      "x4n6\n",
      "x71g\n",
      "z2gf\n"
     ]
    }
   ],
   "source": [
    "for image, label in val_data:\n",
    "    print(label)"
   ]
  },
  {
   "cell_type": "code",
   "execution_count": 75,
   "metadata": {
    "colab": {
     "base_uri": "https://localhost:8080/"
    },
    "executionInfo": {
     "elapsed": 1202,
     "status": "ok",
     "timestamp": 1620480291040,
     "user": {
      "displayName": "Jason Yang",
      "photoUrl": "",
      "userId": "05115859154386871948"
     },
     "user_tz": 240
    },
    "id": "Eqkwr0xFr12Y",
    "outputId": "128e30d3-c631-4d29-97a4-303200c56ff7"
   },
   "outputs": [],
   "source": [
    "fileName = \"captchaTrainSmall.npy\"\n",
    "if os.path.exists(fileName):\n",
    "    os.remove(fileName)\n",
    "with open(fileName, \"wb\") as f:\n",
    "    np.save(f, train_data)"
   ]
  },
  {
   "cell_type": "code",
   "execution_count": 76,
   "metadata": {
    "colab": {
     "base_uri": "https://localhost:8080/",
     "height": 67
    },
    "executionInfo": {
     "elapsed": 1196,
     "status": "ok",
     "timestamp": 1620480295245,
     "user": {
      "displayName": "Jason Yang",
      "photoUrl": "",
      "userId": "05115859154386871948"
     },
     "user_tz": 240
    },
    "id": "xygtm2rQr12Z",
    "outputId": "1f1ede4c-e23b-4975-f2cb-b9f1b0c128f6"
   },
   "outputs": [],
   "source": [
    "#from google.colab.patches import cv2_imshow\n",
    "with open(fileName, \"rb\") as f:\n",
    "    test = np.load(f, allow_pickle=True)\n",
    "cv2.imshow(\"test image\", test[123][0])\n",
    "cv2.waitKey(0)\n",
    "cv2.destroyAllWindows()"
   ]
  },
  {
   "cell_type": "code",
   "execution_count": 77,
   "metadata": {
    "colab": {
     "base_uri": "https://localhost:8080/"
    },
    "executionInfo": {
     "elapsed": 1078,
     "status": "ok",
     "timestamp": 1620480297139,
     "user": {
      "displayName": "Jason Yang",
      "photoUrl": "",
      "userId": "05115859154386871948"
     },
     "user_tz": 240
    },
    "id": "NeMznASL1m4b",
    "outputId": "6061eb37-1215-4ea8-9ba2-9946ac89f244"
   },
   "outputs": [],
   "source": [
    "fileName = \"captchaValSmall.npy\"\n",
    "if os.path.exists(fileName):\n",
    "    os.remove(fileName)\n",
    "with open(fileName, \"wb\") as f:\n",
    "    np.save(f, val_data)"
   ]
  },
  {
   "cell_type": "code",
   "execution_count": 78,
   "metadata": {},
   "outputs": [],
   "source": [
    "with open(fileName, \"rb\") as f:\n",
    "    test = np.load(f, allow_pickle=True)\n",
    "cv2.imshow(\"test image\", test[0][0])\n",
    "cv2.waitKey(0)\n",
    "cv2.destroyAllWindows()"
   ]
  },
  {
   "cell_type": "code",
   "execution_count": null,
   "metadata": {},
   "outputs": [],
   "source": []
  }
 ],
 "metadata": {
  "colab": {
   "name": "parseCaptcha.ipynb",
   "provenance": []
  },
  "kernelspec": {
   "display_name": "Python 3",
   "language": "python",
   "name": "python3"
  },
  "language_info": {
   "codemirror_mode": {
    "name": "ipython",
    "version": 3
   },
   "file_extension": ".py",
   "mimetype": "text/x-python",
   "name": "python",
   "nbconvert_exporter": "python",
   "pygments_lexer": "ipython3",
   "version": "3.7.4"
  }
 },
 "nbformat": 4,
 "nbformat_minor": 4
}
