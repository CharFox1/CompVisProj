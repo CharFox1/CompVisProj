{
  "nbformat": 4,
  "nbformat_minor": 0,
  "metadata": {
    "colab": {
      "name": "DatasetTransformation.ipynb",
      "provenance": []
    },
    "kernelspec": {
      "name": "python3",
      "display_name": "Python 3"
    },
    "language_info": {
      "name": "python"
    }
  },
  "cells": [
    {
      "cell_type": "code",
      "metadata": {
        "id": "9qCrOfWiADyt"
      },
      "source": [
        "from torch.utils.data import DataLoader, Dataset"
      ],
      "execution_count": 11,
      "outputs": []
    },
    {
      "cell_type": "code",
      "metadata": {
        "id": "xLDWuxhLAZyh"
      },
      "source": [
        "invertedLabelDict = {y:x for x,y in labelDict.items()}"
      ],
      "execution_count": 10,
      "outputs": []
    },
    {
      "cell_type": "code",
      "metadata": {
        "id": "H48oBUtK_969"
      },
      "source": [
        "class RandomDataset(Dataset):\n",
        "    def __init__(self, X,classToNum=invertedLabelDict):\n",
        "      self.classToNum = classToNum\n",
        "      self.transformtype = transformtype\n",
        "      self.images = []\n",
        "      self.labels = []\n",
        "      for i in X:\n",
        "        self.images.append(i[0])\n",
        "        self.labels.append(i[1])\n",
        "      if (transformtype):\n",
        "        self.transformtype =transformtype\n",
        "      if (transformtype ==\"r\"):\n",
        "        transform= transformr\n",
        "    \n",
        "    #random rotation   \n",
        "    def randomrotation(self,index):\n",
        "      image = np.float32(self.images[index])\n",
        "      label = tensor(self.classToNum[self.labels[index]])\n",
        "      transformr = T.Compose([\n",
        "      T.ToPILImage(),\n",
        "      T.RandomRotation(180,expand=True),  \n",
        "      T.ToTensor()\n",
        "      ])\n",
        "      image = transformr(image)\n",
        "      sample = [image, label]\n",
        "      return sample\n",
        "      \n",
        "    def __len__(self):\n",
        "      return len(self.labels)\n",
        "\n",
        "    def __getitem__(self, index):\n",
        "      image = np.float32(self.images[index])\n",
        "      label = tensor(self.classToNum[self.labels[index]])\n",
        "      transform = T.Compose([\n",
        "      T.ToPILImage(),\n",
        "      T.ToTensor()                     \n",
        "    ])\n",
        "      image = transform(image)\n",
        "      sample = [image, label]\n",
        "      return sample\n",
        "    \n",
        "    #transform random sized image\n",
        "    def randomsize(self,index):\n",
        "      image = np.float32(self.images[index])\n",
        "      label = tensor(self.classToNum[self.labels[index]])\n",
        "      transformsize = T.Compose([\n",
        "        T.ToPILImage(),\n",
        "        T.RandomResizedCrop(1024),\n",
        "        T.ToTensor()])\n",
        "      image = transformsize(image)\n",
        "      sample = [image, label]\n",
        "      return sample\n",
        "\n",
        "    #Transform random horizontal flip\n",
        "    def randomhorizontal(self,index):\n",
        "      image = np.float32(self.images[index])\n",
        "      label = tensor(self.classToNum[self.labels[index]])\n",
        "      transformhorizontal = T.Compose([\n",
        "        T.ToPILImage(),\n",
        "        T.RandomHorizontalFlip(),\n",
        "        T.ToTensor()])\n",
        "      image = transformhorizontal(image)\n",
        "      sample = [image, label]\n",
        "      return sample"
      ],
      "execution_count": 12,
      "outputs": []
    }
  ]
}