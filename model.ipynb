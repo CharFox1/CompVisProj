{
  "nbformat": 4,
  "nbformat_minor": 0,
  "metadata": {
    "colab": {
      "name": "model.ipynb",
      "provenance": [],
      "collapsed_sections": [],
      "authorship_tag": "ABX9TyOzhUWLimvhQqyjolw0uXAD",
      "include_colab_link": true
    },
    "kernelspec": {
      "name": "python3",
      "display_name": "Python 3"
    },
    "language_info": {
      "name": "python"
    },
    "accelerator": "GPU"
  },
  "cells": [
    {
      "cell_type": "markdown",
      "metadata": {
        "id": "view-in-github",
        "colab_type": "text"
      },
      "source": [
        "<a href=\"https://colab.research.google.com/github/CharFox1/CompVisProj/blob/main/model.ipynb\" target=\"_parent\"><img src=\"https://colab.research.google.com/assets/colab-badge.svg\" alt=\"Open In Colab\"/></a>"
      ]
    },
    {
      "cell_type": "code",
      "metadata": {
        "id": "dL7yYumqgmQQ"
      },
      "source": [
        "import torch\n",
        "from torch import nn, tensor\n",
        "from torch.utils.data import DataLoader, Dataset\n",
        "import torch.nn.functional as F\n",
        "import torchvision.transforms as T\n",
        "import os\n",
        "import cv2\n",
        "import numpy as np\n",
        "import matplotlib.pyplot as plt"
      ],
      "execution_count": 1,
      "outputs": []
    },
    {
      "cell_type": "code",
      "metadata": {
        "colab": {
          "base_uri": "https://localhost:8080/"
        },
        "id": "KiHcbcP4GxpL",
        "outputId": "62c920c1-a7fe-42ca-8624-04f85a68f31d"
      },
      "source": [
        "!unzip handwrittenChars.zip"
      ],
      "execution_count": 2,
      "outputs": [
        {
          "output_type": "stream",
          "text": [
            "Archive:  handwrittenChars.zip\n",
            "   creating: handwrittenChars/\n",
            "   creating: handwrittenChars/.ipynb_checkpoints/\n",
            "  inflating: handwrittenChars/.ipynb_checkpoints/parseHandwrittenChars-checkpoint.ipynb  \n",
            "  inflating: handwrittenChars/parseHandwrittenChars.ipynb  \n",
            "  inflating: handwrittenChars/trainSmall.npy  \n",
            "  inflating: handwrittenChars/valSmall.npy  \n"
          ],
          "name": "stdout"
        }
      ]
    },
    {
      "cell_type": "code",
      "metadata": {
        "colab": {
          "base_uri": "https://localhost:8080/"
        },
        "id": "wNYNEbHSiy2G",
        "outputId": "dcf91246-eb5b-4a2b-b412-ae224aeee3d0"
      },
      "source": [
        "# Get cpu or gpu device for training.\n",
        "device = \"cuda\" if torch.cuda.is_available() else \"cpu\"\n",
        "print(\"Using {} device\".format(device))"
      ],
      "execution_count": 2,
      "outputs": [
        {
          "output_type": "stream",
          "text": [
            "Using cuda device\n"
          ],
          "name": "stdout"
        }
      ]
    },
    {
      "cell_type": "code",
      "metadata": {
        "id": "Xb7d79S884AM"
      },
      "source": [
        "# resnet block to be used in models below\n",
        "# code modified from \"resnet-34-pytorch-starter-kit\"\n",
        "\n",
        "class resBlock(nn.Module):\n",
        "  def __init__(self, in_channels, out_channels, stride=1, kernel_size=3, padding=1, bias=False):\n",
        "    super(resBlock, self).__init__()\n",
        "    \n",
        "    self.cnn1 = nn.Sequential(\n",
        "        nn.Conv2d(in_channels, out_channels, kernel_size, stride, padding, bias=False),\n",
        "        nn.BatchNorm2d(out_channels),\n",
        "        nn.ReLU(True)\n",
        "    )\n",
        "\n",
        "    self.cnn2 = nn.Sequential(\n",
        "        nn.Conv2d(out_channels, out_channels, kernel_size, 1, padding, bias=False),\n",
        "        nn.BatchNorm2d(out_channels)\n",
        "    )\n",
        "\n",
        "    # if the output image will be a different size than the input\n",
        "    # must reshape residual to fit new output shape\n",
        "    if stride != 1 or in_channels != out_channels:\n",
        "      self.shortcut = nn.Sequential(\n",
        "          nn.Conv2d(in_channels, out_channels, kernel_size=1, stride=stride, bias=False),\n",
        "          nn.BatchNorm2d(out_channels)\n",
        "      )\n",
        "    # otherwise just pass it through \n",
        "    else:\n",
        "      self.shortcut = nn.Sequential()\n",
        "\n",
        "  def forward(self, x):\n",
        "    residual = x\n",
        "    x = self.cnn1(x)\n",
        "    x = self.cnn2(x)\n",
        "    x += self.shortcut(residual)\n",
        "    x = nn.ReLU(True)(x)\n",
        "    return x\n"
      ],
      "execution_count": 3,
      "outputs": []
    },
    {
      "cell_type": "code",
      "metadata": {
        "id": "2QTU6t3eT2M4"
      },
      "source": [
        "# simple conv network to test finding single characters\n",
        "# uses resnet structure\n",
        "\n",
        "class convDemoNet(nn.Module):\n",
        "  def __init__(self, numClasses):\n",
        "    super(convDemoNet, self).__init__()\n",
        "    \n",
        "    self.block1 = nn.Sequential(\n",
        "        nn.Conv2d(1, 64, kernel_size=2, stride=2, padding=3, bias=False),\n",
        "        nn.BatchNorm2d(64),\n",
        "        nn.ReLU(True)\n",
        "    )\n",
        "\n",
        "    self.block2 = nn.Sequential(\n",
        "        nn.MaxPool2d(1, 1),\n",
        "        resBlock(64, 64),\n",
        "        resBlock(64, 64, 2)\n",
        "    )\n",
        "\n",
        "    self.block3 = nn.Sequential(\n",
        "        resBlock(64, 128),\n",
        "        resBlock(128, 128, 2)\n",
        "    )\n",
        "\n",
        "    self.block4 = nn.Sequential(\n",
        "        resBlock(128, 256),\n",
        "        resBlock(256, 256, 2)\n",
        "    )\n",
        "\n",
        "    self.block5 = nn.Sequential(\n",
        "        resBlock(256, 512),\n",
        "        resBlock(512, 512, 2)\n",
        "    )\n",
        "\n",
        "    self.avgpool = nn.AvgPool2d(2)\n",
        "    self.flatten = nn.Flatten()\n",
        "    self.l1 = nn.Linear(512, 512)\n",
        "    self.l2 = nn.Linear(512, 256)\n",
        "    self.l3 = nn.Linear(256, numClasses)\n",
        "    #self.softmax = nn.Softmax(dim=1)\n",
        "\n",
        "  def forward(self, x):\n",
        "    x = self.block1(x)\n",
        "    x = self.block2(x)\n",
        "    x = self.block3(x)\n",
        "    x = self.block4(x)\n",
        "    x = self.block5(x)\n",
        "    x = self.avgpool(x)\n",
        "    x = self.flatten(x)\n",
        "    x = self.l1(x)\n",
        "    x = self.l2(x)\n",
        "    x = self.l3(x)\n",
        "    return x"
      ],
      "execution_count": 4,
      "outputs": []
    },
    {
      "cell_type": "code",
      "metadata": {
        "id": "X_U9YSOskQfU"
      },
      "source": [
        "# small function to turn int index into one hot encoding\n",
        "def oneHot(num, numClasses):\n",
        "  output = [0] * numClasses\n",
        "  output[num] = 1\n",
        "  return output"
      ],
      "execution_count": 5,
      "outputs": []
    },
    {
      "cell_type": "code",
      "metadata": {
        "colab": {
          "base_uri": "https://localhost:8080/",
          "height": 270
        },
        "id": "w4mYNjCXUW_I",
        "outputId": "1a52cc1e-e9c5-4ec1-f1d5-cfba3ed1e74f"
      },
      "source": [
        "# get conv demo data (https://www.kaggle.com/vaibhao/handwritten-characters)\n",
        "from google.colab.patches import cv2_imshow #allows us to show images\n",
        "\n",
        "# grab small files (created from larger dataset)\n",
        "# this is the location they should be in the github\n",
        "# if you are running in collab, you need to import the handwrittenChars folder as a zip\n",
        "# you can unzip it with \"!unzip handwrittenChars.zip\" in a separate cell\n",
        "with open(\"handwrittenChars/trainSmall.npy\", \"rb\") as f:\n",
        "    conv_train_data = np.load(f, allow_pickle=True)\n",
        "\n",
        "with open(\"handwrittenChars/valSmall.npy\", \"rb\") as f:\n",
        "    conv_val_data = np.load(f, allow_pickle=True)\n",
        "\n",
        "print(\"training data size:\", len(conv_train_data))\n",
        "print(\"validation data size:\", len(conv_val_data))\n",
        "\n",
        "print(\"training data shape:\", conv_train_data[1201][0].shape)\n",
        "cv2_imshow(conv_train_data[1201][0])\n",
        "print(\"data type of image =\", type(conv_train_data[1201][0]))\n",
        "print(\"training data label:\", conv_train_data[1201][1])\n",
        "print(\"each index in dataset has image (32x32) and char label\")\n",
        "print(conv_train_data[1201][0])"
      ],
      "execution_count": 6,
      "outputs": [
        {
          "output_type": "stream",
          "text": [
            "training data size: 78000\n",
            "validation data size: 13209\n",
            "training data shape: (32, 32)\n"
          ],
          "name": "stdout"
        },
        {
          "output_type": "display_data",
          "data": {
            "image/png": "[encoded data removed]",
            "text/plain": [
              "<PIL.Image.Image image mode=L size=32x32 at 0x7F02AF2AEB50>"
            ]
          },
          "metadata": {
            "tags": []
          }
        },
        {
          "output_type": "stream",
          "text": [
            "data type of image = <class 'numpy.ndarray'>\n",
            "training data label: #\n",
            "each index in dataset has image (32x32) and char label\n",
            "[[0 0 0 ... 0 0 0]\n",
            " [0 0 0 ... 0 0 0]\n",
            " [0 0 0 ... 0 0 0]\n",
            " ...\n",
            " [0 0 0 ... 0 0 0]\n",
            " [0 0 0 ... 0 0 0]\n",
            " [0 0 0 ... 0 0 0]]\n"
          ],
          "name": "stdout"
        }
      ]
    },
    {
      "cell_type": "code",
      "metadata": {
        "colab": {
          "base_uri": "https://localhost:8080/"
        },
        "id": "oD8KefvjlQUq",
        "outputId": "af67894b-0b2d-4094-a147-8ff1feba654a"
      },
      "source": [
        "labels = []\n",
        "for i in conv_train_data:\n",
        "  label = i[1]\n",
        "  if label not in labels:\n",
        "    labels.append(label)\n",
        "\n",
        "print(\"there are\", len(labels), \"labels in the training dataset\")\n",
        "\n",
        "for i in conv_val_data:\n",
        "  label = i[1]\n",
        "  if label not in labels:\n",
        "    labels.append(label)\n",
        "\n",
        "print(\"there are\", len(labels), \"labels in the validation dataset\")\n",
        "\n",
        "labelDict = {}\n",
        "for i in range(len(labels)):\n",
        "  labelDict[i] = labels[i]\n",
        "\n",
        "print(labelDict)\n",
        "invertedLabelDict = {y:x for x,y in labelDict.items()}\n",
        "print(invertedLabelDict)"
      ],
      "execution_count": 7,
      "outputs": [
        {
          "output_type": "stream",
          "text": [
            "there are 39 labels in the training dataset\n",
            "there are 39 labels in the validation dataset\n",
            "{0: '#', 1: '$', 2: '&', 3: '0', 4: '1', 5: '2', 6: '3', 7: '4', 8: '5', 9: '6', 10: '7', 11: '8', 12: '9', 13: '@', 14: 'A', 15: 'B', 16: 'C', 17: 'D', 18: 'E', 19: 'F', 20: 'G', 21: 'H', 22: 'I', 23: 'J', 24: 'K', 25: 'L', 26: 'M', 27: 'N', 28: 'P', 29: 'Q', 30: 'R', 31: 'S', 32: 'T', 33: 'U', 34: 'V', 35: 'W', 36: 'X', 37: 'Y', 38: 'Z'}\n",
            "{'#': 0, '$': 1, '&': 2, '0': 3, '1': 4, '2': 5, '3': 6, '4': 7, '5': 8, '6': 9, '7': 10, '8': 11, '9': 12, '@': 13, 'A': 14, 'B': 15, 'C': 16, 'D': 17, 'E': 18, 'F': 19, 'G': 20, 'H': 21, 'I': 22, 'J': 23, 'K': 24, 'L': 25, 'M': 26, 'N': 27, 'P': 28, 'Q': 29, 'R': 30, 'S': 31, 'T': 32, 'U': 33, 'V': 34, 'W': 35, 'X': 36, 'Y': 37, 'Z': 38}\n"
          ],
          "name": "stdout"
        }
      ]
    },
    {
      "cell_type": "code",
      "metadata": {
        "id": "wNPEtqWcwx7U"
      },
      "source": [
        "# dataset class\n",
        "class handwrittenCharsDataset(Dataset):\n",
        "    def __init__(self, X, classToNum):\n",
        "      self.classToNum = classToNum\n",
        "      self.images = []\n",
        "      self.labels = []\n",
        "      for i in X:\n",
        "        self.images.append(i[0])\n",
        "        self.labels.append(i[1])\n",
        "\n",
        "    def __len__(self):\n",
        "      return len(self.labels)\n",
        "\n",
        "    def __getitem__(self, index):\n",
        "      image = self.images[index]\n",
        "      label = tensor(self.classToNum[self.labels[index]])\n",
        "      #label = tensor(oneHot(labelNum, 39))\n",
        "      image = self.transform(image)\n",
        "      sample = [image, label]\n",
        "      return sample\n",
        "    \n",
        "    transform = T.Compose([\n",
        "      T.ToPILImage(),\n",
        "      T.ToTensor()                     \n",
        "    ])"
      ],
      "execution_count": 8,
      "outputs": []
    },
    {
      "cell_type": "code",
      "metadata": {
        "id": "1GxpW2tg1X-9"
      },
      "source": [
        "batch_size = 10\n",
        "dataset = handwrittenCharsDataset(X=conv_train_data, classToNum=invertedLabelDict)\n",
        "train_dl = DataLoader(dataset, batch_size, shuffle=True, pin_memory=True)"
      ],
      "execution_count": 9,
      "outputs": []
    },
    {
      "cell_type": "code",
      "metadata": {
        "colab": {
          "base_uri": "https://localhost:8080/",
          "height": 117
        },
        "id": "It_9ZFvtaHMU",
        "outputId": "b421d6e0-167f-4d78-b43a-9260e42eaa8f"
      },
      "source": [
        "# init model with 39 classes on output layer\n",
        "# put model in gpu if available\n",
        "convModel = convDemoNet(39).to(device)\n",
        "#print(convModel)\n",
        "\n",
        "testItem, testLabel = next(iter(train_dl))\n",
        "print(testLabel)\n",
        "print(f\"Feature batch shape: {testItem.size()}\")\n",
        "print(f\"Labels batch shape: {testLabel.size()}\")\n",
        "\n",
        "testItem = testItem[0].unsqueeze(0).to(device)\n",
        "#testLabel = labelDict[testLabel[0].numpy().argmax()]\n",
        "testLabel = labelDict[testLabel.numpy()[0]]\n",
        "\n",
        "# some funny business to get image from tensor to see if guess is reasonable\n",
        "image = testItem[0].cpu().numpy()[0] * 255\n",
        "cv2_imshow(image)\n",
        "\n",
        "output = convModel(testItem)\n",
        "y_pred = labelDict[output.argmax(1).item()]\n",
        "print(\"predicted\", y_pred, \"for\", testLabel)"
      ],
      "execution_count": 10,
      "outputs": [
        {
          "output_type": "stream",
          "text": [
            "tensor([27, 18, 21,  9,  6, 23, 15, 28, 17, 14])\n",
            "Feature batch shape: torch.Size([10, 1, 32, 32])\n",
            "Labels batch shape: torch.Size([10])\n"
          ],
          "name": "stdout"
        },
        {
          "output_type": "display_data",
          "data": {
            "image/png": "[encoded data removed]",
            "text/plain": [
              "<PIL.Image.Image image mode=L size=32x32 at 0x7F02A79AEDD0>"
            ]
          },
          "metadata": {
            "tags": []
          }
        },
        {
          "output_type": "stream",
          "text": [
            "predicted 4 for N\n"
          ],
          "name": "stdout"
        }
      ]
    },
    {
      "cell_type": "code",
      "metadata": {
        "id": "cQrqw2D3dtP-"
      },
      "source": [
        "def findAccuracy(outputs, labels):\n",
        "  accuracy = 0\n",
        "  for i in range(len(outputs)):\n",
        "    if outputs[i].cpu().detach().numpy().argmax() == labels[i]:\n",
        "      accuracy += 1\n",
        "\n",
        "  return (accuracy/len(outputs))\n"
      ],
      "execution_count": 11,
      "outputs": []
    },
    {
      "cell_type": "code",
      "metadata": {
        "id": "VjWjzRPPi7hY"
      },
      "source": [
        "import torch.optim as optim\n",
        "lossFunc = nn.CrossEntropyLoss()\n",
        "opt = optim.SGD(convModel.parameters(), lr=0.001) \n",
        "\n",
        "num_epochs = 10\n",
        "\n",
        "testLoss = []\n",
        "testAcc = []\n",
        "\n",
        "for epoch in range(num_epochs):\n",
        "  running_loss = 0\n",
        "  running_acc = 0\n",
        "  for i, data in enumerate(train_dl, 0):\n",
        "    images, labels = data\n",
        "    images, labels = images.to(device), labels.to(device)\n",
        "    \n",
        "    opt.zero_grad()\n",
        "\n",
        "    outputs = convModel(images)\n",
        "\n",
        "    loss = lossFunc(outputs, labels)\n",
        "    loss.backward()\n",
        "    opt.step()\n",
        "\n",
        "    running_acc += findAccuracy(outputs, labels)\n",
        "\n",
        "    running_loss += loss.item()\n",
        "    if i % 1000 == 999:\n",
        "      testLoss.append(running_loss)\n",
        "      testAcc.append(running_acc/10)\n",
        "      print(\"[%d, %5d] loss: %.5f acc: %.3f%%\" % (epoch + 1, i + 1, running_loss / 1000, running_acc / 10))\n",
        "      running_loss = 0\n",
        "      running_acc = 0\n",
        "\n",
        "print(\"Done!\")"
      ],
      "execution_count": null,
      "outputs": []
    },
    {
      "cell_type": "code",
      "metadata": {
        "colab": {
          "base_uri": "https://localhost:8080/",
          "height": 281
        },
        "id": "8rBMdlw4tyl5",
        "outputId": "66361d60-7b15-4414-cd8f-f33d206de1f6"
      },
      "source": [
        "fig = plt.figure()\n",
        "ax = fig.add_subplot(1,1,1)\n",
        "ax.plot(testAcc, color=\"tab:orange\")\n",
        "ax.set_ylim([0,100])\n",
        "ax.set_title(\"Training Accuracy\")\n",
        "plt.show()"
      ],
      "execution_count": 160,
      "outputs": [
        {
          "output_type": "display_data",
          "data": {
            "image/png": "[encoded data removed]",
            "text/plain": [
              "<Figure size 432x288 with 1 Axes>"
            ]
          },
          "metadata": {
            "tags": [],
            "needs_background": "light"
          }
        }
      ]
    },
    {
      "cell_type": "code",
      "metadata": {
        "id": "eGHqZds8g2Et"
      },
      "source": [
        "batch_size = 10\n",
        "dataset = handwrittenCharsDataset(X=conv_val_data, classToNum=invertedLabelDict)\n",
        "val_dl = DataLoader(dataset, batch_size, shuffle=True, pin_memory=True)"
      ],
      "execution_count": 161,
      "outputs": []
    },
    {
      "cell_type": "code",
      "metadata": {
        "colab": {
          "base_uri": "https://localhost:8080/"
        },
        "id": "eHTCjFYWpo_0",
        "outputId": "428d7b65-55f7-40a5-927d-d7a1ae5ce4f4"
      },
      "source": [
        "valLoss = []\n",
        "valAcc = []\n",
        "\n",
        "for epoch in range(3):\n",
        "  running_loss = 0\n",
        "  running_acc = 0\n",
        "  for i, data in enumerate(val_dl, 0):\n",
        "    images, labels = data\n",
        "    images, labels = images.to(device), labels.to(device)\n",
        "\n",
        "    outputs = convModel(images)\n",
        "\n",
        "    running_acc += findAccuracy(outputs, labels)\n",
        "\n",
        "    running_loss += loss.item()\n",
        "    if i % 1000 == 999:\n",
        "      valLoss.append(running_loss)\n",
        "      valAcc.append(running_acc/10)\n",
        "      print(\"[%d, %5d] loss: %.5f acc: %.3f%%\" % (epoch + 1, i + 1, running_loss / 1000, running_acc / 10))\n",
        "      running_loss = 0\n",
        "      running_acc = 0\n",
        "\n",
        "print(\"Done!\")"
      ],
      "execution_count": 163,
      "outputs": [
        {
          "output_type": "stream",
          "text": [
            "[1,  1000] loss: 0.05703 acc: 77.750%\n",
            "[2,  1000] loss: 0.05703 acc: 77.780%\n",
            "[3,  1000] loss: 0.05703 acc: 77.290%\n",
            "Done!\n"
          ],
          "name": "stdout"
        }
      ]
    },
    {
      "cell_type": "code",
      "metadata": {
        "colab": {
          "base_uri": "https://localhost:8080/",
          "height": 281
        },
        "id": "zJOYvuIqqY15",
        "outputId": "7179a597-3511-4814-96eb-000084159868"
      },
      "source": [
        "fig = plt.figure()\n",
        "ax = fig.add_subplot(1,1,1)\n",
        "ax.plot(valAcc, color=\"tab:orange\")\n",
        "ax.set_ylim([0,100])\n",
        "ax.set_title(\"Validation Accuracy\")\n",
        "plt.show()"
      ],
      "execution_count": 164,
      "outputs": [
        {
          "output_type": "display_data",
          "data": {
            "image/png": "[encoded data removed]",
            "text/plain": [
              "<Figure size 432x288 with 1 Axes>"
            ]
          },
          "metadata": {
            "tags": [],
            "needs_background": "light"
          }
        }
      ]
    },
    {
      "cell_type": "code",
      "metadata": {
        "colab": {
          "base_uri": "https://localhost:8080/",
          "height": 66
        },
        "id": "oVZg709ZLzSj",
        "outputId": "703d70d9-4d32-4add-f695-92c2503663f7"
      },
      "source": [
        "testItem, testLabel = next(iter(val_dl))\n",
        "\n",
        "testItem = testItem[0].unsqueeze(0).to(device)\n",
        "testLabel = labelDict[testLabel[0].item()]\n",
        "\n",
        "output = convModel(testItem)\n",
        "# some funny business to get image from tensor to see if guess is reasonable\n",
        "image = testItem[0].cpu().numpy()[0] * 255\n",
        "cv2_imshow(image)\n",
        "y_pred = labelDict[output.argmax(1).item()]\n",
        "print(\"predicted\", y_pred, \"for\", testLabel)"
      ],
      "execution_count": 132,
      "outputs": [
        {
          "output_type": "display_data",
          "data": {
            "image/png": "[encoded data removed]",
            "text/plain": [
              "<PIL.Image.Image image mode=L size=32x32 at 0x7F71B41A4DD0>"
            ]
          },
          "metadata": {
            "tags": []
          }
        },
        {
          "output_type": "stream",
          "text": [
            "predicted P for P\n"
          ],
          "name": "stdout"
        }
      ]
    },
    {
      "cell_type": "code",
      "metadata": {
        "colab": {
          "base_uri": "https://localhost:8080/",
          "height": 164
        },
        "id": "cy5-rUh4mr1g",
        "outputId": "d7ca9c2f-6865-455a-f1fa-95afd89354e5"
      },
      "source": [
        "# experiment with effects of harris corner detection\n",
        "print(\"original image\")\n",
        "input = np.float32(conv_train_data[22001][0])\n",
        "cv2_imshow(input)\n",
        "out = cv2.cornerHarris(input, 2, 3, 0.04)\n",
        "print(\"corner detection\")\n",
        "cv2_imshow(out)\n",
        "combined = input * out\n",
        "print(\"original scaled by corner probabilities\")\n",
        "cv2_imshow(combined)"
      ],
      "execution_count": 12,
      "outputs": [
        {
          "output_type": "stream",
          "text": [
            "original image\n"
          ],
          "name": "stdout"
        },
        {
          "output_type": "display_data",
          "data": {
            "image/png": "[encoded data removed]",
            "text/plain": [
              "<PIL.Image.Image image mode=L size=32x32 at 0x7F02A79750D0>"
            ]
          },
          "metadata": {
            "tags": []
          }
        },
        {
          "output_type": "stream",
          "text": [
            "corner detection\n"
          ],
          "name": "stdout"
        },
        {
          "output_type": "display_data",
          "data": {
            "image/png": "[encoded data removed]",
            "text/plain": [
              "<PIL.Image.Image image mode=L size=32x32 at 0x7F02A7B072D0>"
            ]
          },
          "metadata": {
            "tags": []
          }
        },
        {
          "output_type": "stream",
          "text": [
            "original scaled by corner probabilities\n"
          ],
          "name": "stdout"
        },
        {
          "output_type": "display_data",
          "data": {
            "image/png": "[encoded data removed]",
            "text/plain": [
              "<PIL.Image.Image image mode=L size=32x32 at 0x7F02A7B14510>"
            ]
          },
          "metadata": {
            "tags": []
          }
        }
      ]
    },
    {
      "cell_type": "code",
      "metadata": {
        "id": "PR6r0imQs6NT"
      },
      "source": [
        "# dataset class with corner detection added (may make things more difficult)\n",
        "class handwrittenCharsCornerDataset(Dataset):\n",
        "    def __init__(self, X, classToNum):\n",
        "      self.classToNum = classToNum\n",
        "      self.images = []\n",
        "      self.labels = []\n",
        "      for i in X:\n",
        "        self.images.append(i[0])\n",
        "        self.labels.append(i[1])\n",
        "\n",
        "    def __len__(self):\n",
        "      return len(self.labels)\n",
        "\n",
        "    def __getitem__(self, index):\n",
        "      # apply corner detection to image\n",
        "      image = np.float32(self.images[index])\n",
        "      image = image * cv2.cornerHarris(image, 2, 3, 0.04)\n",
        "\n",
        "      label = tensor(self.classToNum[self.labels[index]])\n",
        "      image = self.transform(image)\n",
        "      sample = [image, label]\n",
        "      return sample\n",
        "    \n",
        "    transform = T.Compose([\n",
        "      T.ToPILImage(),\n",
        "      T.ToTensor()                     \n",
        "    ])"
      ],
      "execution_count": 15,
      "outputs": []
    },
    {
      "cell_type": "code",
      "metadata": {
        "id": "OcUeSxThwk2P"
      },
      "source": [
        "batch_size = 10\n",
        "dataset = handwrittenCharsCornerDataset(X=conv_train_data, classToNum=invertedLabelDict)\n",
        "cornerTrain_dl = DataLoader(dataset, batch_size, shuffle=True, pin_memory=True)"
      ],
      "execution_count": 19,
      "outputs": []
    },
    {
      "cell_type": "code",
      "metadata": {
        "colab": {
          "base_uri": "https://localhost:8080/",
          "height": 117
        },
        "id": "IkuBLN4MxAWP",
        "outputId": "2998d5fd-1271-4ab0-d5ec-8eed52845889"
      },
      "source": [
        "# init new model to use corner detection version of dataset\n",
        "cornerConvModel = convDemoNet(39).to(device)\n",
        "#print(convModel)\n",
        "\n",
        "testItem, testLabel = next(iter(cornerTrain_dl))\n",
        "print(testLabel)\n",
        "print(f\"Feature batch shape: {testItem.size()}\")\n",
        "print(f\"Labels batch shape: {testLabel.size()}\")\n",
        "\n",
        "testItem = testItem[0].unsqueeze(0).to(device)\n",
        "#testLabel = labelDict[testLabel[0].numpy().argmax()]\n",
        "testLabel = labelDict[testLabel.numpy()[0]]\n",
        "\n",
        "# some funny business to get image from tensor to see if guess is reasonable\n",
        "image = testItem[0].cpu().numpy()[0] * 255\n",
        "cv2_imshow(image)\n",
        "\n",
        "output = cornerConvModel(testItem)\n",
        "y_pred = labelDict[output.argmax(1).item()]\n",
        "print(\"predicted\", y_pred, \"for\", testLabel)"
      ],
      "execution_count": 34,
      "outputs": [
        {
          "output_type": "stream",
          "text": [
            "tensor([ 6, 19, 12,  8, 27, 26,  4, 31,  9, 10])\n",
            "Feature batch shape: torch.Size([10, 1, 32, 32])\n",
            "Labels batch shape: torch.Size([10])\n"
          ],
          "name": "stdout"
        },
        {
          "output_type": "display_data",
          "data": {
            "image/png": "[encoded data removed]",
            "text/plain": [
              "<PIL.Image.Image image mode=L size=32x32 at 0x7F02A75EDF50>"
            ]
          },
          "metadata": {
            "tags": []
          }
        },
        {
          "output_type": "stream",
          "text": [
            "predicted G for 3\n"
          ],
          "name": "stdout"
        }
      ]
    },
    {
      "cell_type": "code",
      "metadata": {
        "colab": {
          "base_uri": "https://localhost:8080/"
        },
        "id": "qCCS2yoCxev7",
        "outputId": "d27f2e61-a739-4d7a-ef88-2b47bb3a21e8"
      },
      "source": [
        "import torch.optim as optim\n",
        "lossFunc = nn.CrossEntropyLoss()\n",
        "opt = optim.SGD(cornerConvModel.parameters(), lr=0.001) \n",
        "\n",
        "num_epochs = 10\n",
        "\n",
        "testLoss = []\n",
        "testAcc = []\n",
        "\n",
        "for epoch in range(num_epochs):\n",
        "  running_loss = 0\n",
        "  running_acc = 0\n",
        "  for i, data in enumerate(cornerTrain_dl, 0):\n",
        "    images, labels = data\n",
        "    images, labels = images.to(device), labels.to(device)\n",
        "    \n",
        "    opt.zero_grad()\n",
        "\n",
        "    outputs = cornerConvModel(images)\n",
        "\n",
        "    loss = lossFunc(outputs, labels)\n",
        "    loss.backward()\n",
        "    opt.step()\n",
        "\n",
        "    running_acc += findAccuracy(outputs, labels)\n",
        "\n",
        "    running_loss += loss.item()\n",
        "    if i % 1000 == 999:\n",
        "      testLoss.append(running_loss)\n",
        "      testAcc.append(running_acc/10)\n",
        "      print(\"[%d, %5d] loss: %.5f acc: %.3f%%\" % (epoch + 1, i + 1, running_loss / 1000, running_acc / 10))\n",
        "      running_loss = 0\n",
        "      running_acc = 0\n",
        "\n",
        "print(\"Done!\")"
      ],
      "execution_count": 36,
      "outputs": [
        {
          "output_type": "stream",
          "text": [
            "[1,  1000] loss: 3.48813 acc: 9.250%\n",
            "[1,  2000] loss: 3.09171 acc: 21.420%\n",
            "[1,  3000] loss: 2.43999 acc: 38.900%\n",
            "[1,  4000] loss: 1.69560 acc: 57.960%\n",
            "[1,  5000] loss: 1.15154 acc: 70.660%\n",
            "[1,  6000] loss: 0.80642 acc: 78.910%\n",
            "[1,  7000] loss: 0.64397 acc: 82.070%\n",
            "[2,  1000] loss: 0.45543 acc: 86.250%\n",
            "[2,  2000] loss: 0.42449 acc: 86.810%\n",
            "[2,  3000] loss: 0.38201 acc: 88.060%\n",
            "[2,  4000] loss: 0.36443 acc: 88.480%\n",
            "[2,  5000] loss: 0.34882 acc: 88.560%\n",
            "[2,  6000] loss: 0.33250 acc: 89.400%\n",
            "[2,  7000] loss: 0.31253 acc: 89.780%\n",
            "[3,  1000] loss: 0.25881 acc: 91.320%\n",
            "[3,  2000] loss: 0.24508 acc: 91.910%\n",
            "[3,  3000] loss: 0.25392 acc: 91.810%\n",
            "[3,  4000] loss: 0.24234 acc: 92.300%\n",
            "[3,  5000] loss: 0.22831 acc: 92.370%\n",
            "[3,  6000] loss: 0.23015 acc: 91.840%\n",
            "[3,  7000] loss: 0.22524 acc: 92.130%\n",
            "[4,  1000] loss: 0.18592 acc: 93.370%\n",
            "[4,  2000] loss: 0.18487 acc: 93.410%\n",
            "[4,  3000] loss: 0.19161 acc: 93.160%\n",
            "[4,  4000] loss: 0.19135 acc: 93.170%\n",
            "[4,  5000] loss: 0.17116 acc: 93.770%\n",
            "[4,  6000] loss: 0.18297 acc: 93.530%\n",
            "[4,  7000] loss: 0.17526 acc: 93.740%\n",
            "[5,  1000] loss: 0.14548 acc: 94.860%\n",
            "[5,  2000] loss: 0.14831 acc: 94.670%\n",
            "[5,  3000] loss: 0.14780 acc: 94.590%\n",
            "[5,  4000] loss: 0.14821 acc: 94.520%\n",
            "[5,  5000] loss: 0.14744 acc: 94.530%\n",
            "[5,  6000] loss: 0.15874 acc: 94.080%\n",
            "[5,  7000] loss: 0.14599 acc: 94.460%\n",
            "[6,  1000] loss: 0.12985 acc: 95.210%\n",
            "[6,  2000] loss: 0.11758 acc: 95.590%\n",
            "[6,  3000] loss: 0.11709 acc: 95.530%\n",
            "[6,  4000] loss: 0.13171 acc: 94.790%\n",
            "[6,  5000] loss: 0.12646 acc: 95.280%\n",
            "[6,  6000] loss: 0.12216 acc: 95.120%\n",
            "[6,  7000] loss: 0.13481 acc: 94.670%\n",
            "[7,  1000] loss: 0.10594 acc: 95.970%\n",
            "[7,  2000] loss: 0.10445 acc: 95.930%\n",
            "[7,  3000] loss: 0.10477 acc: 95.980%\n",
            "[7,  4000] loss: 0.09690 acc: 96.250%\n",
            "[7,  5000] loss: 0.11135 acc: 95.790%\n",
            "[7,  6000] loss: 0.11265 acc: 95.790%\n",
            "[7,  7000] loss: 0.10775 acc: 95.920%\n",
            "[8,  1000] loss: 0.09036 acc: 96.560%\n",
            "[8,  2000] loss: 0.08508 acc: 96.700%\n",
            "[8,  3000] loss: 0.09089 acc: 96.400%\n",
            "[8,  4000] loss: 0.09593 acc: 96.180%\n",
            "[8,  5000] loss: 0.09575 acc: 96.410%\n",
            "[8,  6000] loss: 0.09462 acc: 96.460%\n",
            "[8,  7000] loss: 0.09801 acc: 96.220%\n",
            "[9,  1000] loss: 0.07917 acc: 96.910%\n",
            "[9,  2000] loss: 0.08292 acc: 96.960%\n",
            "[9,  3000] loss: 0.08472 acc: 96.770%\n",
            "[9,  4000] loss: 0.08130 acc: 96.960%\n",
            "[9,  5000] loss: 0.08461 acc: 96.670%\n",
            "[9,  6000] loss: 0.08319 acc: 96.670%\n",
            "[9,  7000] loss: 0.08743 acc: 96.680%\n",
            "[10,  1000] loss: 0.07544 acc: 97.220%\n",
            "[10,  2000] loss: 0.07274 acc: 97.190%\n",
            "[10,  3000] loss: 0.07292 acc: 96.960%\n",
            "[10,  4000] loss: 0.07555 acc: 97.020%\n",
            "[10,  5000] loss: 0.07598 acc: 97.070%\n",
            "[10,  6000] loss: 0.07617 acc: 97.060%\n",
            "[10,  7000] loss: 0.08406 acc: 96.680%\n",
            "Done!\n"
          ],
          "name": "stdout"
        }
      ]
    },
    {
      "cell_type": "code",
      "metadata": {
        "colab": {
          "base_uri": "https://localhost:8080/",
          "height": 281
        },
        "id": "PqU_gYgn4LTl",
        "outputId": "4da6210d-5674-4135-903d-eb6398da32b7"
      },
      "source": [
        "fig = plt.figure()\n",
        "ax = fig.add_subplot(1,1,1)\n",
        "ax.plot(testAcc, color=\"tab:orange\")\n",
        "ax.set_ylim([0,100])\n",
        "ax.set_title(\"Training Accuracy\")\n",
        "plt.show()"
      ],
      "execution_count": 37,
      "outputs": [
        {
          "output_type": "display_data",
          "data": {
            "image/png": "[encoded data removed]",
            "text/plain": [
              "<Figure size 432x288 with 1 Axes>"
            ]
          },
          "metadata": {
            "tags": [],
            "needs_background": "light"
          }
        }
      ]
    },
    {
      "cell_type": "code",
      "metadata": {
        "id": "iDOI58oC4W2A"
      },
      "source": [
        "batch_size = 10\n",
        "dataset = handwrittenCharsCornerDataset(X=conv_val_data, classToNum=invertedLabelDict)\n",
        "cornerVal_dl = DataLoader(dataset, batch_size, shuffle=True, pin_memory=True)"
      ],
      "execution_count": 38,
      "outputs": []
    },
    {
      "cell_type": "code",
      "metadata": {
        "colab": {
          "base_uri": "https://localhost:8080/"
        },
        "id": "CnCaIYHV4SBV",
        "outputId": "085c839f-5f8f-4ec1-eaaa-249fefd66964"
      },
      "source": [
        "valLoss = []\n",
        "valAcc = []\n",
        "\n",
        "for epoch in range(3):\n",
        "  running_loss = 0\n",
        "  running_acc = 0\n",
        "  for i, data in enumerate(cornerVal_dl, 0):\n",
        "    images, labels = data\n",
        "    images, labels = images.to(device), labels.to(device)\n",
        "\n",
        "    outputs = cornerConvModel(images)\n",
        "\n",
        "    running_acc += findAccuracy(outputs, labels)\n",
        "\n",
        "    running_loss += loss.item()\n",
        "    if i % 1000 == 999:\n",
        "      valLoss.append(running_loss)\n",
        "      valAcc.append(running_acc/10)\n",
        "      print(\"[%d, %5d] loss: %.5f acc: %.3f%%\" % (epoch + 1, i + 1, running_loss / 1000, running_acc / 10))\n",
        "      running_loss = 0\n",
        "      running_acc = 0\n",
        "\n",
        "print(\"Done!\")"
      ],
      "execution_count": 39,
      "outputs": [
        {
          "output_type": "stream",
          "text": [
            "[1,  1000] loss: 0.00123 acc: 76.940%\n",
            "[2,  1000] loss: 0.00123 acc: 77.500%\n",
            "[3,  1000] loss: 0.00123 acc: 77.040%\n",
            "Done!\n"
          ],
          "name": "stdout"
        }
      ]
    },
    {
      "cell_type": "code",
      "metadata": {
        "colab": {
          "base_uri": "https://localhost:8080/",
          "height": 281
        },
        "id": "UBTqd1u_4rWH",
        "outputId": "37708773-0bbd-4661-e041-93fbaae6e690"
      },
      "source": [
        "fig = plt.figure()\n",
        "ax = fig.add_subplot(1,1,1)\n",
        "ax.plot(valAcc, color=\"tab:orange\")\n",
        "ax.set_ylim([0,100])\n",
        "ax.set_title(\"Validation Accuracy\")\n",
        "plt.show()"
      ],
      "execution_count": 42,
      "outputs": [
        {
          "output_type": "display_data",
          "data": {
            "image/png": "[encoded data removed]",
            "text/plain": [
              "<Figure size 432x288 with 1 Axes>"
            ]
          },
          "metadata": {
            "tags": [],
            "needs_background": "light"
          }
        }
      ]
    }
  ]
}