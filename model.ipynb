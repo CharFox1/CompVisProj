{
  "nbformat": 4,
  "nbformat_minor": 0,
  "metadata": {
    "colab": {
      "name": "model.ipynb",
      "provenance": [],
      "collapsed_sections": [],
      "authorship_tag": "ABX9TyNtlFKUxW+vNJh5N+Bg4ZxH",
      "include_colab_link": true
    },
    "kernelspec": {
      "name": "python3",
      "display_name": "Python 3"
    },
    "language_info": {
      "name": "python"
    },
    "accelerator": "GPU"
  },
  "cells": [
    {
      "cell_type": "markdown",
      "metadata": {
        "id": "view-in-github",
        "colab_type": "text"
      },
      "source": [
        "<a href=\"https://colab.research.google.com/github/CharFox1/CompVisProj/blob/main/model.ipynb\" target=\"_parent\"><img src=\"https://colab.research.google.com/assets/colab-badge.svg\" alt=\"Open In Colab\"/></a>"
      ]
    },
    {
      "cell_type": "code",
      "metadata": {
        "id": "dL7yYumqgmQQ"
      },
      "source": [
        "import torch\n",
        "from torch import nn, tensor\n",
        "from torch.utils.data import DataLoader, Dataset\n",
        "import torch.nn.functional as F\n",
        "import torchvision.transforms as T\n",
        "import os\n",
        "import cv2\n",
        "import numpy as np\n",
        "import matplotlib.pyplot as plt"
      ],
      "execution_count": 4,
      "outputs": []
    },
    {
      "cell_type": "code",
      "metadata": {
        "colab": {
          "base_uri": "https://localhost:8080/"
        },
        "id": "KiHcbcP4GxpL",
        "outputId": "39c8b0de-5bef-469c-c1fe-ab3c5287ff1d"
      },
      "source": [
        "!unzip handwrittenChars.zip"
      ],
      "execution_count": 2,
      "outputs": [
        {
          "output_type": "stream",
          "text": [
            "Archive:  handwrittenChars.zip\n",
            "   creating: handwrittenChars/\n",
            "   creating: handwrittenChars/.ipynb_checkpoints/\n",
            "  inflating: handwrittenChars/.ipynb_checkpoints/parseHandwrittenChars-checkpoint.ipynb  \n",
            "  inflating: handwrittenChars/parseHandwrittenChars.ipynb  \n",
            "  inflating: handwrittenChars/trainSmall.npy  \n",
            "  inflating: handwrittenChars/valSmall.npy  \n"
          ],
          "name": "stdout"
        }
      ]
    },
    {
      "cell_type": "code",
      "metadata": {
        "colab": {
          "base_uri": "https://localhost:8080/"
        },
        "id": "wNYNEbHSiy2G",
        "outputId": "5f59f197-abc2-4b03-feeb-0d1857534f7b"
      },
      "source": [
        "# Get cpu or gpu device for training.\n",
        "device = \"cuda\" if torch.cuda.is_available() else \"cpu\"\n",
        "print(\"Using {} device\".format(device))"
      ],
      "execution_count": 36,
      "outputs": [
        {
          "output_type": "stream",
          "text": [
            "Using cuda device\n"
          ],
          "name": "stdout"
        }
      ]
    },
    {
      "cell_type": "code",
      "metadata": {
        "id": "EQ2B_PruqWiV"
      },
      "source": [
        "# Manually pick cpu device if desired\n",
        "device = \"cpu\""
      ],
      "execution_count": 18,
      "outputs": []
    },
    {
      "cell_type": "code",
      "metadata": {
        "id": "Xb7d79S884AM"
      },
      "source": [
        "# resnet block to be used in models below\n",
        "# code modified from \"resnet-34-pytorch-starter-kit\"\n",
        "\n",
        "class resBlock(nn.Module):\n",
        "  def __init__(self, in_channels, out_channels, stride=1, kernel_size=3, padding=1, bias=False):\n",
        "    super(resBlock, self).__init__()\n",
        "    \n",
        "    self.cnn1 = nn.Sequential(\n",
        "        nn.Conv2d(in_channels, out_channels, kernel_size, stride, padding, bias=False),\n",
        "        nn.BatchNorm2d(out_channels),\n",
        "        nn.ReLU(True)\n",
        "    )\n",
        "\n",
        "    self.cnn2 = nn.Sequential(\n",
        "        nn.Conv2d(out_channels, out_channels, kernel_size, 1, padding, bias=False),\n",
        "        nn.BatchNorm2d(out_channels)\n",
        "    )\n",
        "\n",
        "    # if the output image will be a different size than the input\n",
        "    # must reshape residual to fit new output shape\n",
        "    if stride != 1 or in_channels != out_channels:\n",
        "      self.shortcut = nn.Sequential(\n",
        "          nn.Conv2d(in_channels, out_channels, kernel_size=1, stride=stride, bias=False),\n",
        "          nn.BatchNorm2d(out_channels)\n",
        "      )\n",
        "    # otherwise just pass it through \n",
        "    else:\n",
        "      self.shortcut = nn.Sequential()\n",
        "\n",
        "  def forward(self, x):\n",
        "    residual = x\n",
        "    x = self.cnn1(x)\n",
        "    x = self.cnn2(x)\n",
        "    x += self.shortcut(residual)\n",
        "    x = nn.ReLU(True)(x)\n",
        "    return x\n"
      ],
      "execution_count": 37,
      "outputs": []
    },
    {
      "cell_type": "code",
      "metadata": {
        "id": "2QTU6t3eT2M4"
      },
      "source": [
        "# simple conv network to test finding single characters\n",
        "# uses resnet structure\n",
        "\n",
        "class convDemoNet(nn.Module):\n",
        "  def __init__(self, numClasses):\n",
        "    super(convDemoNet, self).__init__()\n",
        "    \n",
        "    self.block1 = nn.Sequential(\n",
        "        nn.Conv2d(1, 64, kernel_size=2, stride=2, padding=3, bias=False),\n",
        "        nn.BatchNorm2d(64),\n",
        "        nn.ReLU(True)\n",
        "    )\n",
        "\n",
        "    self.block2 = nn.Sequential(\n",
        "        nn.MaxPool2d(1, 1),\n",
        "        resBlock(64, 64),\n",
        "        resBlock(64, 64, 2)\n",
        "    )\n",
        "\n",
        "    self.block3 = nn.Sequential(\n",
        "        resBlock(64, 128),\n",
        "        resBlock(128, 128, 2)\n",
        "    )\n",
        "\n",
        "    self.block4 = nn.Sequential(\n",
        "        resBlock(128, 256),\n",
        "        resBlock(256, 256, 2)\n",
        "    )\n",
        "\n",
        "    self.block5 = nn.Sequential(\n",
        "        resBlock(256, 512),\n",
        "        resBlock(512, 512, 2)\n",
        "    )\n",
        "\n",
        "    self.avgpool = nn.AvgPool2d(2)\n",
        "    self.flatten = nn.Flatten()\n",
        "    self.l1 = nn.Linear(512, 512)\n",
        "    self.l2 = nn.Linear(512, 256)\n",
        "    self.l3 = nn.Linear(256, numClasses)\n",
        "    #self.softmax = nn.Softmax(dim=1)\n",
        "\n",
        "  def forward(self, x):\n",
        "    x = self.block1(x)\n",
        "    x = self.block2(x)\n",
        "    x = self.block3(x)\n",
        "    x = self.block4(x)\n",
        "    x = self.block5(x)\n",
        "    x = self.avgpool(x)\n",
        "    x = self.flatten(x)\n",
        "    x = self.l1(x)\n",
        "    x = self.l2(x)\n",
        "    x = self.l3(x)\n",
        "    return x"
      ],
      "execution_count": 38,
      "outputs": []
    },
    {
      "cell_type": "code",
      "metadata": {
        "id": "X_U9YSOskQfU"
      },
      "source": [
        "# small function to turn int index into one hot encoding\n",
        "def oneHot(num, numClasses):\n",
        "  output = [0] * numClasses\n",
        "  output[num] = 1\n",
        "  return output"
      ],
      "execution_count": 39,
      "outputs": []
    },
    {
      "cell_type": "code",
      "metadata": {
        "colab": {
          "base_uri": "https://localhost:8080/",
          "height": 270
        },
        "id": "w4mYNjCXUW_I",
        "outputId": "b8b1c830-4ab6-4ed8-a276-11b57c0ba798"
      },
      "source": [
        "# get conv demo data (https://www.kaggle.com/vaibhao/handwritten-characters)\n",
        "from google.colab.patches import cv2_imshow #allows us to show images\n",
        "\n",
        "# grab small files (created from larger dataset)\n",
        "# this is the location they should be in the github\n",
        "# if you are running in collab, you need to import the handwrittenChars folder as a zip\n",
        "# you can unzip it with \"!unzip handwrittenChars.zip\" in a separate cell\n",
        "with open(\"handwrittenChars/trainSmall.npy\", \"rb\") as f:\n",
        "    conv_train_data = np.load(f, allow_pickle=True)\n",
        "\n",
        "with open(\"handwrittenChars/valSmall.npy\", \"rb\") as f:\n",
        "    conv_val_data = np.load(f, allow_pickle=True)\n",
        "\n",
        "print(\"training data size:\", len(conv_train_data))\n",
        "print(\"validation data size:\", len(conv_val_data))\n",
        "\n",
        "print(\"training data shape:\", conv_train_data[1201][0].shape)\n",
        "cv2_imshow(conv_train_data[1201][0])\n",
        "print(\"data type of image =\", type(conv_train_data[1201][0]))\n",
        "print(\"training data label:\", conv_train_data[1201][1])\n",
        "print(\"each index in dataset has image (32x32) and char label\")\n",
        "print(conv_train_data[1201][0])"
      ],
      "execution_count": 40,
      "outputs": [
        {
          "output_type": "stream",
          "text": [
            "training data size: 78000\n",
            "validation data size: 13209\n",
            "training data shape: (32, 32)\n"
          ],
          "name": "stdout"
        },
        {
          "output_type": "display_data",
          "data": {
            "image/png": "[encoded data removed]",
            "text/plain": [
              "<PIL.Image.Image image mode=L size=32x32 at 0x7FB5F171E2D0>"
            ]
          },
          "metadata": {
            "tags": []
          }
        },
        {
          "output_type": "stream",
          "text": [
            "data type of image = <class 'numpy.ndarray'>\n",
            "training data label: #\n",
            "each index in dataset has image (32x32) and char label\n",
            "[[0 0 0 ... 0 0 0]\n",
            " [0 0 0 ... 0 0 0]\n",
            " [0 0 0 ... 0 0 0]\n",
            " ...\n",
            " [0 0 0 ... 0 0 0]\n",
            " [0 0 0 ... 0 0 0]\n",
            " [0 0 0 ... 0 0 0]]\n"
          ],
          "name": "stdout"
        }
      ]
    },
    {
      "cell_type": "code",
      "metadata": {
        "colab": {
          "base_uri": "https://localhost:8080/"
        },
        "id": "oD8KefvjlQUq",
        "outputId": "cebf45e9-cf46-474f-efcb-db80a032185e"
      },
      "source": [
        "labels = []\n",
        "for i in conv_train_data:\n",
        "  label = i[1]\n",
        "  if label not in labels:\n",
        "    labels.append(label)\n",
        "\n",
        "print(\"there are\", len(labels), \"labels in the training dataset\")\n",
        "\n",
        "for i in conv_val_data:\n",
        "  label = i[1]\n",
        "  if label not in labels:\n",
        "    labels.append(label)\n",
        "\n",
        "print(\"there are\", len(labels), \"labels in the validation dataset\")\n",
        "\n",
        "labelDict = {}\n",
        "for i in range(len(labels)):\n",
        "  labelDict[i] = labels[i]\n",
        "\n",
        "print(labelDict)\n",
        "invertedLabelDict = {y:x for x,y in labelDict.items()}\n",
        "print(invertedLabelDict)"
      ],
      "execution_count": 41,
      "outputs": [
        {
          "output_type": "stream",
          "text": [
            "there are 39 labels in the training dataset\n",
            "there are 39 labels in the validation dataset\n",
            "{0: '#', 1: '$', 2: '&', 3: '0', 4: '1', 5: '2', 6: '3', 7: '4', 8: '5', 9: '6', 10: '7', 11: '8', 12: '9', 13: '@', 14: 'A', 15: 'B', 16: 'C', 17: 'D', 18: 'E', 19: 'F', 20: 'G', 21: 'H', 22: 'I', 23: 'J', 24: 'K', 25: 'L', 26: 'M', 27: 'N', 28: 'P', 29: 'Q', 30: 'R', 31: 'S', 32: 'T', 33: 'U', 34: 'V', 35: 'W', 36: 'X', 37: 'Y', 38: 'Z'}\n",
            "{'#': 0, '$': 1, '&': 2, '0': 3, '1': 4, '2': 5, '3': 6, '4': 7, '5': 8, '6': 9, '7': 10, '8': 11, '9': 12, '@': 13, 'A': 14, 'B': 15, 'C': 16, 'D': 17, 'E': 18, 'F': 19, 'G': 20, 'H': 21, 'I': 22, 'J': 23, 'K': 24, 'L': 25, 'M': 26, 'N': 27, 'P': 28, 'Q': 29, 'R': 30, 'S': 31, 'T': 32, 'U': 33, 'V': 34, 'W': 35, 'X': 36, 'Y': 37, 'Z': 38}\n"
          ],
          "name": "stdout"
        }
      ]
    },
    {
      "cell_type": "code",
      "metadata": {
        "id": "wNPEtqWcwx7U"
      },
      "source": [
        "# dataset class\n",
        "class handwrittenCharsDataset(Dataset):\n",
        "    def __init__(self, X, classToNum):\n",
        "      self.classToNum = classToNum\n",
        "      self.images = []\n",
        "      self.labels = []\n",
        "      for i in X:\n",
        "        self.images.append(i[0])\n",
        "        self.labels.append(i[1])\n",
        "\n",
        "    def __len__(self):\n",
        "      return len(self.labels)\n",
        "\n",
        "    def __getitem__(self, index):\n",
        "      image = self.images[index]\n",
        "      label = tensor(self.classToNum[self.labels[index]])\n",
        "      #label = tensor(oneHot(labelNum, 39))\n",
        "      image = self.transform(image)\n",
        "      sample = [image, label]\n",
        "      return sample\n",
        "    \n",
        "    transform = T.Compose([\n",
        "      T.ToPILImage(),\n",
        "      T.ToTensor()                     \n",
        "    ])"
      ],
      "execution_count": 42,
      "outputs": []
    },
    {
      "cell_type": "code",
      "metadata": {
        "id": "1GxpW2tg1X-9"
      },
      "source": [
        "batch_size = 10\n",
        "dataset = handwrittenCharsDataset(X=conv_train_data, classToNum=invertedLabelDict)\n",
        "train_dl = DataLoader(dataset, batch_size, shuffle=True, pin_memory=True)"
      ],
      "execution_count": 43,
      "outputs": []
    },
    {
      "cell_type": "code",
      "metadata": {
        "colab": {
          "base_uri": "https://localhost:8080/",
          "height": 117
        },
        "id": "It_9ZFvtaHMU",
        "outputId": "df1948f4-c4e0-4ee1-e95a-9264310759a4"
      },
      "source": [
        "# init model with 39 classes on output layer\n",
        "# put model in gpu if available\n",
        "convModel = convDemoNet(39).to(device)\n",
        "#print(convModel)\n",
        "\n",
        "testItem, testLabel = next(iter(train_dl))\n",
        "print(testLabel)\n",
        "print(f\"Feature batch shape: {testItem.size()}\")\n",
        "print(f\"Labels batch shape: {testLabel.size()}\")\n",
        "\n",
        "testItem = testItem[0].unsqueeze(0).to(device)\n",
        "#testLabel = labelDict[testLabel[0].numpy().argmax()]\n",
        "testLabel = labelDict[testLabel.numpy()[0]]\n",
        "\n",
        "# some funny business to get image from tensor to see if guess is reasonable\n",
        "image = testItem[0].cpu().numpy()[0] * 255\n",
        "cv2_imshow(image)\n",
        "\n",
        "output = convModel(testItem)\n",
        "y_pred = labelDict[output.argmax(1).item()]\n",
        "print(\"predicted\", y_pred, \"for\", testLabel)"
      ],
      "execution_count": 44,
      "outputs": [
        {
          "output_type": "stream",
          "text": [
            "tensor([29, 21, 25, 15,  3, 11,  0, 10, 17, 24])\n",
            "Feature batch shape: torch.Size([10, 1, 32, 32])\n",
            "Labels batch shape: torch.Size([10])\n"
          ],
          "name": "stdout"
        },
        {
          "output_type": "display_data",
          "data": {
            "image/png": "[encoded data removed]",
            "text/plain": [
              "<PIL.Image.Image image mode=L size=32x32 at 0x7FB5F16B4410>"
            ]
          },
          "metadata": {
            "tags": []
          }
        },
        {
          "output_type": "stream",
          "text": [
            "predicted & for Q\n"
          ],
          "name": "stdout"
        }
      ]
    },
    {
      "cell_type": "code",
      "metadata": {
        "colab": {
          "base_uri": "https://localhost:8080/"
        },
        "id": "ekM6o5xdp09K",
        "outputId": "5c4311eb-4c62-4ef6-a142-7fb48a93dfeb"
      },
      "source": [
        "!pip install hiddenlayer"
      ],
      "execution_count": 15,
      "outputs": [
        {
          "output_type": "stream",
          "text": [
            "Collecting hiddenlayer\n",
            "  Downloading https://files.pythonhosted.org/packages/64/f8/ea51d02695a4dc397f3b2487fae462cd3f2ce707c54250e0fdfaec2ff92e/hiddenlayer-0.3-py3-none-any.whl\n",
            "Installing collected packages: hiddenlayer\n",
            "Successfully installed hiddenlayer-0.3\n"
          ],
          "name": "stdout"
        }
      ]
    },
    {
      "cell_type": "code",
      "metadata": {
        "colab": {
          "base_uri": "https://localhost:8080/",
          "height": 291
        },
        "id": "6TcZ2CXYpEvH",
        "outputId": "b93e4a60-18cd-41f1-b56a-5c8594030bd7"
      },
      "source": [
        "# Need to be in cpu to render this image\n",
        "import hiddenlayer as hl\n",
        "\n",
        "hl.build_graph(convModel, torch.zeros([1, 1, 32, 32]), transforms=transforms)"
      ],
      "execution_count": 33,
      "outputs": [
        {
          "output_type": "stream",
          "text": [
            "/usr/local/lib/python3.7/dist-packages/torch/onnx/symbolic_helper.py:680: UserWarning: ONNX export mode is set to inference mode, but operator batch_norm is set to training  mode. The model will be exported in inference, as specified by the export mode.\n",
            "  training_mode + \", as specified by the export mode.\")\n"
          ],
          "name": "stderr"
        },
        {
          "output_type": "execute_result",
          "data": {
            "text/plain": [
              "<hiddenlayer.graph.Graph at 0x7fb5f17f2750>"
            ],
            "image/svg+xml": "<?xml version=\"1.0\" encoding=\"UTF-8\" standalone=\"no\"?>\n<!DOCTYPE svg PUBLIC \"-//W3C//DTD SVG 1.1//EN\"\n \"http://www.w3.org/Graphics/SVG/1.1/DTD/svg11.dtd\">\n<!-- Generated by graphviz version 2.40.1 (20161225.0304)\n -->\n<!-- Title: %3 Pages: 1 -->\n<svg width=\"6327pt\" height=\"162pt\"\n viewBox=\"0.00 0.00 6327.00 162.00\" xmlns=\"http://www.w3.org/2000/svg\" xmlns:xlink=\"http://www.w3.org/1999/xlink\">\n<g id=\"graph0\" class=\"graph\" transform=\"scale(1 1) rotate(0) translate(72 126)\">\n<title>%3</title>\n<polygon fill=\"#ffffff\" stroke=\"transparent\" points=\"-72,36 -72,-126 6255,-126 6255,36 -72,36\"/>\n<!-- /outputs/151 -->\n<g id=\"node1\" class=\"node\">\n<title>/outputs/151</title>\n<polygon fill=\"#e8e8e8\" stroke=\"#000000\" points=\"55,-63 0,-63 0,-27 55,-27 55,-63\"/>\n<text text-anchor=\"start\" x=\"8.5\" y=\"-42\" font-family=\"Times\" font-size=\"10.00\" fill=\"#000000\">Conv2x2</text>\n</g>\n<!-- /outputs/152 -->\n<g id=\"node2\" class=\"node\">\n<title>/outputs/152</title>\n<polygon fill=\"#e8e8e8\" stroke=\"#000000\" points=\"154,-63 91,-63 91,-27 154,-27 154,-63\"/>\n<text text-anchor=\"start\" x=\"99.5\" y=\"-42\" font-family=\"Times\" font-size=\"10.00\" fill=\"#000000\">BatchNorm</text>\n</g>\n<!-- /outputs/151&#45;&gt;/outputs/152 -->\n<g id=\"edge1\" class=\"edge\">\n<title>/outputs/151&#45;&gt;/outputs/152</title>\n<path fill=\"none\" stroke=\"#000000\" d=\"M55.2333,-45C63.1762,-45 72.0166,-45 80.6087,-45\"/>\n<polygon fill=\"#000000\" stroke=\"#000000\" points=\"80.8891,-48.5001 90.8891,-45 80.889,-41.5001 80.8891,-48.5001\"/>\n</g>\n<!-- /outputs/153 -->\n<g id=\"node3\" class=\"node\">\n<title>/outputs/153</title>\n<polygon fill=\"#e8e8e8\" stroke=\"#000000\" points=\"244,-63 190,-63 190,-27 244,-27 244,-63\"/>\n<text text-anchor=\"start\" x=\"207\" y=\"-42\" font-family=\"Times\" font-size=\"10.00\" fill=\"#000000\">Relu</text>\n</g>\n<!-- /outputs/152&#45;&gt;/outputs/153 -->\n<g id=\"edge2\" class=\"edge\">\n<title>/outputs/152&#45;&gt;/outputs/153</title>\n<path fill=\"none\" stroke=\"#000000\" d=\"M154.23,-45C162.464,-45 171.4053,-45 179.889,-45\"/>\n<polygon fill=\"#000000\" stroke=\"#000000\" points=\"179.932,-48.5001 189.932,-45 179.9319,-41.5001 179.932,-48.5001\"/>\n</g>\n<!-- /outputs/154 -->\n<g id=\"node4\" class=\"node\">\n<title>/outputs/154</title>\n<polygon fill=\"#e8e8e8\" stroke=\"#000000\" points=\"350,-63 280,-63 280,-27 350,-27 350,-63\"/>\n<text text-anchor=\"start\" x=\"288\" y=\"-42\" font-family=\"Times\" font-size=\"10.00\" fill=\"#000000\">MaxPool1x1</text>\n</g>\n<!-- /outputs/153&#45;&gt;/outputs/154 -->\n<g id=\"edge3\" class=\"edge\">\n<title>/outputs/153&#45;&gt;/outputs/154</title>\n<path fill=\"none\" stroke=\"#000000\" d=\"M244.0384,-45C252.0196,-45 260.9811,-45 269.7791,-45\"/>\n<polygon fill=\"#000000\" stroke=\"#000000\" points=\"269.9636,-48.5001 279.9635,-45 269.9635,-41.5001 269.9636,-48.5001\"/>\n</g>\n<!-- /outputs/155 -->\n<g id=\"node5\" class=\"node\">\n<title>/outputs/155</title>\n<polygon fill=\"#e8e8e8\" stroke=\"#000000\" points=\"441,-86 386,-86 386,-50 441,-50 441,-86\"/>\n<text text-anchor=\"start\" x=\"394.5\" y=\"-65\" font-family=\"Times\" font-size=\"10.00\" fill=\"#000000\">Conv3x3</text>\n</g>\n<!-- /outputs/154&#45;&gt;/outputs/155 -->\n<g id=\"edge4\" class=\"edge\">\n<title>/outputs/154&#45;&gt;/outputs/155</title>\n<path fill=\"none\" stroke=\"#000000\" d=\"M350.0048,-53.1737C358.339,-55.1198 367.2686,-57.2049 375.721,-59.1785\"/>\n<polygon fill=\"#000000\" stroke=\"#000000\" points=\"375.1883,-62.6482 385.7222,-61.5138 376.78,-55.8316 375.1883,-62.6482\"/>\n</g>\n<!-- /outputs/160 -->\n<g id=\"node10\" class=\"node\">\n<title>/outputs/160</title>\n<polygon fill=\"#e8e8e8\" stroke=\"#000000\" points=\"910,-63 856,-63 856,-27 910,-27 910,-63\"/>\n<text text-anchor=\"start\" x=\"874\" y=\"-42\" font-family=\"Times\" font-size=\"10.00\" fill=\"#000000\">Add</text>\n</g>\n<!-- /outputs/154&#45;&gt;/outputs/160 -->\n<g id=\"edge5\" class=\"edge\">\n<title>/outputs/154&#45;&gt;/outputs/160</title>\n<path fill=\"none\" stroke=\"#000000\" d=\"M350.1602,-38.2856C388.821,-31.4969 452.8493,-22 508.5,-22 508.5,-22 508.5,-22 693.5,-22 746.6637,-22 807.6099,-31.0314 845.7093,-37.7754\"/>\n<polygon fill=\"#000000\" stroke=\"#000000\" points=\"845.3603,-41.2691 855.824,-39.6075 846.6079,-34.3812 845.3603,-41.2691\"/>\n</g>\n<!-- /outputs/156 -->\n<g id=\"node6\" class=\"node\">\n<title>/outputs/156</title>\n<polygon fill=\"#e8e8e8\" stroke=\"#000000\" points=\"540,-86 477,-86 477,-50 540,-50 540,-86\"/>\n<text text-anchor=\"start\" x=\"485.5\" y=\"-65\" font-family=\"Times\" font-size=\"10.00\" fill=\"#000000\">BatchNorm</text>\n</g>\n<!-- /outputs/155&#45;&gt;/outputs/156 -->\n<g id=\"edge6\" class=\"edge\">\n<title>/outputs/155&#45;&gt;/outputs/156</title>\n<path fill=\"none\" stroke=\"#000000\" d=\"M441.2333,-68C449.1762,-68 458.0166,-68 466.6087,-68\"/>\n<polygon fill=\"#000000\" stroke=\"#000000\" points=\"466.8891,-71.5001 476.8891,-68 466.889,-64.5001 466.8891,-71.5001\"/>\n</g>\n<!-- /outputs/157 -->\n<g id=\"node7\" class=\"node\">\n<title>/outputs/157</title>\n<polygon fill=\"#e8e8e8\" stroke=\"#000000\" points=\"630,-86 576,-86 576,-50 630,-50 630,-86\"/>\n<text text-anchor=\"start\" x=\"593\" y=\"-65\" font-family=\"Times\" font-size=\"10.00\" fill=\"#000000\">Relu</text>\n</g>\n<!-- /outputs/156&#45;&gt;/outputs/157 -->\n<g id=\"edge7\" class=\"edge\">\n<title>/outputs/156&#45;&gt;/outputs/157</title>\n<path fill=\"none\" stroke=\"#000000\" d=\"M540.23,-68C548.464,-68 557.4053,-68 565.889,-68\"/>\n<polygon fill=\"#000000\" stroke=\"#000000\" points=\"565.932,-71.5001 575.932,-68 565.9319,-64.5001 565.932,-71.5001\"/>\n</g>\n<!-- /outputs/158 -->\n<g id=\"node8\" class=\"node\">\n<title>/outputs/158</title>\n<polygon fill=\"#e8e8e8\" stroke=\"#000000\" points=\"721,-86 666,-86 666,-50 721,-50 721,-86\"/>\n<text text-anchor=\"start\" x=\"674.5\" y=\"-65\" font-family=\"Times\" font-size=\"10.00\" fill=\"#000000\">Conv3x3</text>\n</g>\n<!-- /outputs/157&#45;&gt;/outputs/158 -->\n<g id=\"edge8\" class=\"edge\">\n<title>/outputs/157&#45;&gt;/outputs/158</title>\n<path fill=\"none\" stroke=\"#000000\" d=\"M630.153,-68C638.1482,-68 647.046,-68 655.5856,-68\"/>\n<polygon fill=\"#000000\" stroke=\"#000000\" points=\"655.7397,-71.5001 665.7397,-68 655.7397,-64.5001 655.7397,-71.5001\"/>\n</g>\n<!-- /outputs/159 -->\n<g id=\"node9\" class=\"node\">\n<title>/outputs/159</title>\n<polygon fill=\"#e8e8e8\" stroke=\"#000000\" points=\"820,-86 757,-86 757,-50 820,-50 820,-86\"/>\n<text text-anchor=\"start\" x=\"765.5\" y=\"-65\" font-family=\"Times\" font-size=\"10.00\" fill=\"#000000\">BatchNorm</text>\n</g>\n<!-- /outputs/158&#45;&gt;/outputs/159 -->\n<g id=\"edge9\" class=\"edge\">\n<title>/outputs/158&#45;&gt;/outputs/159</title>\n<path fill=\"none\" stroke=\"#000000\" d=\"M721.2333,-68C729.1762,-68 738.0166,-68 746.6087,-68\"/>\n<polygon fill=\"#000000\" stroke=\"#000000\" points=\"746.8891,-71.5001 756.8891,-68 746.889,-64.5001 746.8891,-71.5001\"/>\n</g>\n<!-- /outputs/159&#45;&gt;/outputs/160 -->\n<g id=\"edge10\" class=\"edge\">\n<title>/outputs/159&#45;&gt;/outputs/160</title>\n<path fill=\"none\" stroke=\"#000000\" d=\"M820.23,-60.2773C828.5545,-58.2513 837.6019,-56.0493 846.1685,-53.9643\"/>\n<polygon fill=\"#000000\" stroke=\"#000000\" points=\"847.0433,-57.3536 855.932,-51.588 845.3879,-50.5522 847.0433,-57.3536\"/>\n</g>\n<!-- /outputs/161 -->\n<g id=\"node11\" class=\"node\">\n<title>/outputs/161</title>\n<polygon fill=\"#e8e8e8\" stroke=\"#000000\" points=\"1000,-63 946,-63 946,-27 1000,-27 1000,-63\"/>\n<text text-anchor=\"start\" x=\"963\" y=\"-42\" font-family=\"Times\" font-size=\"10.00\" fill=\"#000000\">Relu</text>\n</g>\n<!-- /outputs/160&#45;&gt;/outputs/161 -->\n<g id=\"edge11\" class=\"edge\">\n<title>/outputs/160&#45;&gt;/outputs/161</title>\n<path fill=\"none\" stroke=\"#000000\" d=\"M910.003,-45C918.0277,-45 926.9665,-45 935.5309,-45\"/>\n<polygon fill=\"#000000\" stroke=\"#000000\" points=\"935.7051,-48.5001 945.705,-45 935.705,-41.5001 935.7051,-48.5001\"/>\n</g>\n<!-- /outputs/162 -->\n<g id=\"node12\" class=\"node\">\n<title>/outputs/162</title>\n<polygon fill=\"#e8e8e8\" stroke=\"#000000\" points=\"1091,-88 1036,-88 1036,-52 1091,-52 1091,-88\"/>\n<text text-anchor=\"start\" x=\"1044.5\" y=\"-67\" font-family=\"Times\" font-size=\"10.00\" fill=\"#000000\">Conv3x3</text>\n</g>\n<!-- /outputs/161&#45;&gt;/outputs/162 -->\n<g id=\"edge12\" class=\"edge\">\n<title>/outputs/161&#45;&gt;/outputs/162</title>\n<path fill=\"none\" stroke=\"#000000\" d=\"M1000.153,-52.5008C1008.2361,-54.7337 1017.2416,-57.2214 1025.867,-59.6041\"/>\n<polygon fill=\"#000000\" stroke=\"#000000\" points=\"1025.1687,-63.0423 1035.7397,-62.3314 1027.0327,-56.295 1025.1687,-63.0423\"/>\n</g>\n<!-- /outputs/167 -->\n<g id=\"node17\" class=\"node\">\n<title>/outputs/167</title>\n<polygon fill=\"#e8e8e8\" stroke=\"#000000\" points=\"1186,-36 1131,-36 1131,0 1186,0 1186,-36\"/>\n<text text-anchor=\"start\" x=\"1139.5\" y=\"-15\" font-family=\"Times\" font-size=\"10.00\" fill=\"#000000\">Conv1x1</text>\n</g>\n<!-- /outputs/161&#45;&gt;/outputs/167 -->\n<g id=\"edge13\" class=\"edge\">\n<title>/outputs/161&#45;&gt;/outputs/167</title>\n<path fill=\"none\" stroke=\"#000000\" d=\"M1000.3712,-41.0161C1032.2003,-36.3832 1084.9297,-28.7083 1120.6641,-23.5071\"/>\n<polygon fill=\"#000000\" stroke=\"#000000\" points=\"1121.3215,-26.9484 1130.7131,-22.0445 1120.3132,-20.0214 1121.3215,-26.9484\"/>\n</g>\n<!-- /outputs/163 -->\n<g id=\"node13\" class=\"node\">\n<title>/outputs/163</title>\n<polygon fill=\"#e8e8e8\" stroke=\"#000000\" points=\"1190,-90 1127,-90 1127,-54 1190,-54 1190,-90\"/>\n<text text-anchor=\"start\" x=\"1135.5\" y=\"-69\" font-family=\"Times\" font-size=\"10.00\" fill=\"#000000\">BatchNorm</text>\n</g>\n<!-- /outputs/162&#45;&gt;/outputs/163 -->\n<g id=\"edge14\" class=\"edge\">\n<title>/outputs/162&#45;&gt;/outputs/163</title>\n<path fill=\"none\" stroke=\"#000000\" d=\"M1091.2333,-70.5839C1099.1762,-70.7511 1108.0166,-70.9372 1116.6087,-71.1181\"/>\n<polygon fill=\"#000000\" stroke=\"#000000\" points=\"1116.8176,-74.6232 1126.8891,-71.3345 1116.965,-67.6247 1116.8176,-74.6232\"/>\n</g>\n<!-- /outputs/164 -->\n<g id=\"node14\" class=\"node\">\n<title>/outputs/164</title>\n<polygon fill=\"#e8e8e8\" stroke=\"#000000\" points=\"1284.5,-90 1230.5,-90 1230.5,-54 1284.5,-54 1284.5,-90\"/>\n<text text-anchor=\"start\" x=\"1247.5\" y=\"-69\" font-family=\"Times\" font-size=\"10.00\" fill=\"#000000\">Relu</text>\n</g>\n<!-- /outputs/163&#45;&gt;/outputs/164 -->\n<g id=\"edge15\" class=\"edge\">\n<title>/outputs/163&#45;&gt;/outputs/164</title>\n<path fill=\"none\" stroke=\"#000000\" d=\"M1190.0964,-72C1199.6722,-72 1210.281,-72 1220.194,-72\"/>\n<polygon fill=\"#000000\" stroke=\"#000000\" points=\"1220.2001,-75.5001 1230.2001,-72 1220.2001,-68.5001 1220.2001,-75.5001\"/>\n</g>\n<!-- /outputs/165 -->\n<g id=\"node15\" class=\"node\">\n<title>/outputs/165</title>\n<polygon fill=\"#e8e8e8\" stroke=\"#000000\" points=\"1380,-89 1325,-89 1325,-53 1380,-53 1380,-89\"/>\n<text text-anchor=\"start\" x=\"1333.5\" y=\"-68\" font-family=\"Times\" font-size=\"10.00\" fill=\"#000000\">Conv3x3</text>\n</g>\n<!-- /outputs/164&#45;&gt;/outputs/165 -->\n<g id=\"edge16\" class=\"edge\">\n<title>/outputs/164&#45;&gt;/outputs/165</title>\n<path fill=\"none\" stroke=\"#000000\" d=\"M1284.7232,-71.7134C1294.0826,-71.6149 1304.7351,-71.5028 1314.778,-71.3971\"/>\n<polygon fill=\"#000000\" stroke=\"#000000\" points=\"1314.9808,-74.8952 1324.9433,-71.2901 1314.907,-67.8956 1314.9808,-74.8952\"/>\n</g>\n<!-- /outputs/166 -->\n<g id=\"node16\" class=\"node\">\n<title>/outputs/166</title>\n<polygon fill=\"#e8e8e8\" stroke=\"#000000\" points=\"1479,-88 1416,-88 1416,-52 1479,-52 1479,-88\"/>\n<text text-anchor=\"start\" x=\"1424.5\" y=\"-67\" font-family=\"Times\" font-size=\"10.00\" fill=\"#000000\">BatchNorm</text>\n</g>\n<!-- /outputs/165&#45;&gt;/outputs/166 -->\n<g id=\"edge17\" class=\"edge\">\n<title>/outputs/165&#45;&gt;/outputs/166</title>\n<path fill=\"none\" stroke=\"#000000\" d=\"M1380.2333,-70.7081C1388.1762,-70.6245 1397.0166,-70.5314 1405.6087,-70.441\"/>\n<polygon fill=\"#000000\" stroke=\"#000000\" points=\"1405.9265,-73.9379 1415.8891,-70.3327 1405.8527,-66.9383 1405.9265,-73.9379\"/>\n</g>\n<!-- /outputs/169 -->\n<g id=\"node19\" class=\"node\">\n<title>/outputs/169</title>\n<polygon fill=\"#e8e8e8\" stroke=\"#000000\" points=\"1569,-63 1515,-63 1515,-27 1569,-27 1569,-63\"/>\n<text text-anchor=\"start\" x=\"1533\" y=\"-42\" font-family=\"Times\" font-size=\"10.00\" fill=\"#000000\">Add</text>\n</g>\n<!-- /outputs/166&#45;&gt;/outputs/169 -->\n<g id=\"edge18\" class=\"edge\">\n<title>/outputs/166&#45;&gt;/outputs/169</title>\n<path fill=\"none\" stroke=\"#000000\" d=\"M1479.23,-61.6058C1487.5545,-59.4036 1496.6019,-57.0101 1505.1685,-54.7438\"/>\n<polygon fill=\"#000000\" stroke=\"#000000\" points=\"1506.1597,-58.1021 1514.932,-52.1609 1504.3694,-51.3349 1506.1597,-58.1021\"/>\n</g>\n<!-- /outputs/168 -->\n<g id=\"node18\" class=\"node\">\n<title>/outputs/168</title>\n<polygon fill=\"#e8e8e8\" stroke=\"#000000\" points=\"1289,-36 1226,-36 1226,0 1289,0 1289,-36\"/>\n<text text-anchor=\"start\" x=\"1234.5\" y=\"-15\" font-family=\"Times\" font-size=\"10.00\" fill=\"#000000\">BatchNorm</text>\n</g>\n<!-- /outputs/167&#45;&gt;/outputs/168 -->\n<g id=\"edge19\" class=\"edge\">\n<title>/outputs/167&#45;&gt;/outputs/168</title>\n<path fill=\"none\" stroke=\"#000000\" d=\"M1186.077,-18C1195.2491,-18 1205.6795,-18 1215.6812,-18\"/>\n<polygon fill=\"#000000\" stroke=\"#000000\" points=\"1215.8781,-21.5001 1225.878,-18 1215.878,-14.5001 1215.8781,-21.5001\"/>\n</g>\n<!-- /outputs/168&#45;&gt;/outputs/169 -->\n<g id=\"edge20\" class=\"edge\">\n<title>/outputs/168&#45;&gt;/outputs/169</title>\n<path fill=\"none\" stroke=\"#000000\" d=\"M1289.0335,-20.9926C1341.9042,-26.0102 1448.1766,-36.0958 1504.6828,-41.4585\"/>\n<polygon fill=\"#000000\" stroke=\"#000000\" points=\"1504.6744,-44.9733 1514.9604,-42.4338 1505.3358,-38.0046 1504.6744,-44.9733\"/>\n</g>\n<!-- /outputs/170 -->\n<g id=\"node20\" class=\"node\">\n<title>/outputs/170</title>\n<polygon fill=\"#e8e8e8\" stroke=\"#000000\" points=\"1659,-63 1605,-63 1605,-27 1659,-27 1659,-63\"/>\n<text text-anchor=\"start\" x=\"1622\" y=\"-42\" font-family=\"Times\" font-size=\"10.00\" fill=\"#000000\">Relu</text>\n</g>\n<!-- /outputs/169&#45;&gt;/outputs/170 -->\n<g id=\"edge21\" class=\"edge\">\n<title>/outputs/169&#45;&gt;/outputs/170</title>\n<path fill=\"none\" stroke=\"#000000\" d=\"M1569.003,-45C1577.0277,-45 1585.9665,-45 1594.5309,-45\"/>\n<polygon fill=\"#000000\" stroke=\"#000000\" points=\"1594.7051,-48.5001 1604.705,-45 1594.705,-41.5001 1594.7051,-48.5001\"/>\n</g>\n<!-- /outputs/171 -->\n<g id=\"node21\" class=\"node\">\n<title>/outputs/171</title>\n<polygon fill=\"#e8e8e8\" stroke=\"#000000\" points=\"1750,-88 1695,-88 1695,-52 1750,-52 1750,-88\"/>\n<text text-anchor=\"start\" x=\"1703.5\" y=\"-67\" font-family=\"Times\" font-size=\"10.00\" fill=\"#000000\">Conv3x3</text>\n</g>\n<!-- /outputs/170&#45;&gt;/outputs/171 -->\n<g id=\"edge22\" class=\"edge\">\n<title>/outputs/170&#45;&gt;/outputs/171</title>\n<path fill=\"none\" stroke=\"#000000\" d=\"M1659.153,-52.5008C1667.2361,-54.7337 1676.2416,-57.2214 1684.867,-59.6041\"/>\n<polygon fill=\"#000000\" stroke=\"#000000\" points=\"1684.1687,-63.0423 1694.7397,-62.3314 1686.0327,-56.295 1684.1687,-63.0423\"/>\n</g>\n<!-- /outputs/176 -->\n<g id=\"node26\" class=\"node\">\n<title>/outputs/176</title>\n<polygon fill=\"#e8e8e8\" stroke=\"#000000\" points=\"1845,-36 1790,-36 1790,0 1845,0 1845,-36\"/>\n<text text-anchor=\"start\" x=\"1798.5\" y=\"-15\" font-family=\"Times\" font-size=\"10.00\" fill=\"#000000\">Conv1x1</text>\n</g>\n<!-- /outputs/170&#45;&gt;/outputs/176 -->\n<g id=\"edge23\" class=\"edge\">\n<title>/outputs/170&#45;&gt;/outputs/176</title>\n<path fill=\"none\" stroke=\"#000000\" d=\"M1659.3712,-41.0161C1691.2003,-36.3832 1743.9297,-28.7083 1779.6641,-23.5071\"/>\n<polygon fill=\"#000000\" stroke=\"#000000\" points=\"1780.3215,-26.9484 1789.7131,-22.0445 1779.3132,-20.0214 1780.3215,-26.9484\"/>\n</g>\n<!-- /outputs/172 -->\n<g id=\"node22\" class=\"node\">\n<title>/outputs/172</title>\n<polygon fill=\"#e8e8e8\" stroke=\"#000000\" points=\"1849,-90 1786,-90 1786,-54 1849,-54 1849,-90\"/>\n<text text-anchor=\"start\" x=\"1794.5\" y=\"-69\" font-family=\"Times\" font-size=\"10.00\" fill=\"#000000\">BatchNorm</text>\n</g>\n<!-- /outputs/171&#45;&gt;/outputs/172 -->\n<g id=\"edge24\" class=\"edge\">\n<title>/outputs/171&#45;&gt;/outputs/172</title>\n<path fill=\"none\" stroke=\"#000000\" d=\"M1750.2333,-70.5839C1758.1762,-70.7511 1767.0166,-70.9372 1775.6087,-71.1181\"/>\n<polygon fill=\"#000000\" stroke=\"#000000\" points=\"1775.8176,-74.6232 1785.8891,-71.3345 1775.965,-67.6247 1775.8176,-74.6232\"/>\n</g>\n<!-- /outputs/173 -->\n<g id=\"node23\" class=\"node\">\n<title>/outputs/173</title>\n<polygon fill=\"#e8e8e8\" stroke=\"#000000\" points=\"1943.5,-90 1889.5,-90 1889.5,-54 1943.5,-54 1943.5,-90\"/>\n<text text-anchor=\"start\" x=\"1906.5\" y=\"-69\" font-family=\"Times\" font-size=\"10.00\" fill=\"#000000\">Relu</text>\n</g>\n<!-- /outputs/172&#45;&gt;/outputs/173 -->\n<g id=\"edge25\" class=\"edge\">\n<title>/outputs/172&#45;&gt;/outputs/173</title>\n<path fill=\"none\" stroke=\"#000000\" d=\"M1849.0964,-72C1858.6722,-72 1869.281,-72 1879.194,-72\"/>\n<polygon fill=\"#000000\" stroke=\"#000000\" points=\"1879.2001,-75.5001 1889.2001,-72 1879.2001,-68.5001 1879.2001,-75.5001\"/>\n</g>\n<!-- /outputs/174 -->\n<g id=\"node24\" class=\"node\">\n<title>/outputs/174</title>\n<polygon fill=\"#e8e8e8\" stroke=\"#000000\" points=\"2039,-89 1984,-89 1984,-53 2039,-53 2039,-89\"/>\n<text text-anchor=\"start\" x=\"1992.5\" y=\"-68\" font-family=\"Times\" font-size=\"10.00\" fill=\"#000000\">Conv3x3</text>\n</g>\n<!-- /outputs/173&#45;&gt;/outputs/174 -->\n<g id=\"edge26\" class=\"edge\">\n<title>/outputs/173&#45;&gt;/outputs/174</title>\n<path fill=\"none\" stroke=\"#000000\" d=\"M1943.7232,-71.7134C1953.0826,-71.6149 1963.7351,-71.5028 1973.778,-71.3971\"/>\n<polygon fill=\"#000000\" stroke=\"#000000\" points=\"1973.9808,-74.8952 1983.9433,-71.2901 1973.907,-67.8956 1973.9808,-74.8952\"/>\n</g>\n<!-- /outputs/175 -->\n<g id=\"node25\" class=\"node\">\n<title>/outputs/175</title>\n<polygon fill=\"#e8e8e8\" stroke=\"#000000\" points=\"2138,-88 2075,-88 2075,-52 2138,-52 2138,-88\"/>\n<text text-anchor=\"start\" x=\"2083.5\" y=\"-67\" font-family=\"Times\" font-size=\"10.00\" fill=\"#000000\">BatchNorm</text>\n</g>\n<!-- /outputs/174&#45;&gt;/outputs/175 -->\n<g id=\"edge27\" class=\"edge\">\n<title>/outputs/174&#45;&gt;/outputs/175</title>\n<path fill=\"none\" stroke=\"#000000\" d=\"M2039.2333,-70.7081C2047.1762,-70.6245 2056.0166,-70.5314 2064.6087,-70.441\"/>\n<polygon fill=\"#000000\" stroke=\"#000000\" points=\"2064.9265,-73.9379 2074.8891,-70.3327 2064.8527,-66.9383 2064.9265,-73.9379\"/>\n</g>\n<!-- /outputs/178 -->\n<g id=\"node28\" class=\"node\">\n<title>/outputs/178</title>\n<polygon fill=\"#e8e8e8\" stroke=\"#000000\" points=\"2228,-63 2174,-63 2174,-27 2228,-27 2228,-63\"/>\n<text text-anchor=\"start\" x=\"2192\" y=\"-42\" font-family=\"Times\" font-size=\"10.00\" fill=\"#000000\">Add</text>\n</g>\n<!-- /outputs/175&#45;&gt;/outputs/178 -->\n<g id=\"edge28\" class=\"edge\">\n<title>/outputs/175&#45;&gt;/outputs/178</title>\n<path fill=\"none\" stroke=\"#000000\" d=\"M2138.23,-61.6058C2146.5545,-59.4036 2155.6019,-57.0101 2164.1685,-54.7438\"/>\n<polygon fill=\"#000000\" stroke=\"#000000\" points=\"2165.1597,-58.1021 2173.932,-52.1609 2163.3694,-51.3349 2165.1597,-58.1021\"/>\n</g>\n<!-- /outputs/177 -->\n<g id=\"node27\" class=\"node\">\n<title>/outputs/177</title>\n<polygon fill=\"#e8e8e8\" stroke=\"#000000\" points=\"1948,-36 1885,-36 1885,0 1948,0 1948,-36\"/>\n<text text-anchor=\"start\" x=\"1893.5\" y=\"-15\" font-family=\"Times\" font-size=\"10.00\" fill=\"#000000\">BatchNorm</text>\n</g>\n<!-- /outputs/176&#45;&gt;/outputs/177 -->\n<g id=\"edge29\" class=\"edge\">\n<title>/outputs/176&#45;&gt;/outputs/177</title>\n<path fill=\"none\" stroke=\"#000000\" d=\"M1845.077,-18C1854.2491,-18 1864.6795,-18 1874.6812,-18\"/>\n<polygon fill=\"#000000\" stroke=\"#000000\" points=\"1874.8781,-21.5001 1884.878,-18 1874.878,-14.5001 1874.8781,-21.5001\"/>\n</g>\n<!-- /outputs/177&#45;&gt;/outputs/178 -->\n<g id=\"edge30\" class=\"edge\">\n<title>/outputs/177&#45;&gt;/outputs/178</title>\n<path fill=\"none\" stroke=\"#000000\" d=\"M1948.0335,-20.9926C2000.9042,-26.0102 2107.1766,-36.0958 2163.6828,-41.4585\"/>\n<polygon fill=\"#000000\" stroke=\"#000000\" points=\"2163.6744,-44.9733 2173.9604,-42.4338 2164.3358,-38.0046 2163.6744,-44.9733\"/>\n</g>\n<!-- /outputs/179 -->\n<g id=\"node29\" class=\"node\">\n<title>/outputs/179</title>\n<polygon fill=\"#e8e8e8\" stroke=\"#000000\" points=\"2318,-63 2264,-63 2264,-27 2318,-27 2318,-63\"/>\n<text text-anchor=\"start\" x=\"2281\" y=\"-42\" font-family=\"Times\" font-size=\"10.00\" fill=\"#000000\">Relu</text>\n</g>\n<!-- /outputs/178&#45;&gt;/outputs/179 -->\n<g id=\"edge31\" class=\"edge\">\n<title>/outputs/178&#45;&gt;/outputs/179</title>\n<path fill=\"none\" stroke=\"#000000\" d=\"M2228.003,-45C2236.0277,-45 2244.9665,-45 2253.5309,-45\"/>\n<polygon fill=\"#000000\" stroke=\"#000000\" points=\"2253.7051,-48.5001 2263.705,-45 2253.705,-41.5001 2253.7051,-48.5001\"/>\n</g>\n<!-- /outputs/180 -->\n<g id=\"node30\" class=\"node\">\n<title>/outputs/180</title>\n<polygon fill=\"#e8e8e8\" stroke=\"#000000\" points=\"2409,-88 2354,-88 2354,-52 2409,-52 2409,-88\"/>\n<text text-anchor=\"start\" x=\"2362.5\" y=\"-67\" font-family=\"Times\" font-size=\"10.00\" fill=\"#000000\">Conv3x3</text>\n</g>\n<!-- /outputs/179&#45;&gt;/outputs/180 -->\n<g id=\"edge32\" class=\"edge\">\n<title>/outputs/179&#45;&gt;/outputs/180</title>\n<path fill=\"none\" stroke=\"#000000\" d=\"M2318.153,-52.5008C2326.2361,-54.7337 2335.2416,-57.2214 2343.867,-59.6041\"/>\n<polygon fill=\"#000000\" stroke=\"#000000\" points=\"2343.1687,-63.0423 2353.7397,-62.3314 2345.0327,-56.295 2343.1687,-63.0423\"/>\n</g>\n<!-- /outputs/185 -->\n<g id=\"node35\" class=\"node\">\n<title>/outputs/185</title>\n<polygon fill=\"#e8e8e8\" stroke=\"#000000\" points=\"2504,-36 2449,-36 2449,0 2504,0 2504,-36\"/>\n<text text-anchor=\"start\" x=\"2457.5\" y=\"-15\" font-family=\"Times\" font-size=\"10.00\" fill=\"#000000\">Conv1x1</text>\n</g>\n<!-- /outputs/179&#45;&gt;/outputs/185 -->\n<g id=\"edge33\" class=\"edge\">\n<title>/outputs/179&#45;&gt;/outputs/185</title>\n<path fill=\"none\" stroke=\"#000000\" d=\"M2318.3712,-41.0161C2350.2003,-36.3832 2402.9297,-28.7083 2438.6641,-23.5071\"/>\n<polygon fill=\"#000000\" stroke=\"#000000\" points=\"2439.3215,-26.9484 2448.7131,-22.0445 2438.3132,-20.0214 2439.3215,-26.9484\"/>\n</g>\n<!-- /outputs/181 -->\n<g id=\"node31\" class=\"node\">\n<title>/outputs/181</title>\n<polygon fill=\"#e8e8e8\" stroke=\"#000000\" points=\"2508,-90 2445,-90 2445,-54 2508,-54 2508,-90\"/>\n<text text-anchor=\"start\" x=\"2453.5\" y=\"-69\" font-family=\"Times\" font-size=\"10.00\" fill=\"#000000\">BatchNorm</text>\n</g>\n<!-- /outputs/180&#45;&gt;/outputs/181 -->\n<g id=\"edge34\" class=\"edge\">\n<title>/outputs/180&#45;&gt;/outputs/181</title>\n<path fill=\"none\" stroke=\"#000000\" d=\"M2409.2333,-70.5839C2417.1762,-70.7511 2426.0166,-70.9372 2434.6087,-71.1181\"/>\n<polygon fill=\"#000000\" stroke=\"#000000\" points=\"2434.8176,-74.6232 2444.8891,-71.3345 2434.965,-67.6247 2434.8176,-74.6232\"/>\n</g>\n<!-- /outputs/182 -->\n<g id=\"node32\" class=\"node\">\n<title>/outputs/182</title>\n<polygon fill=\"#e8e8e8\" stroke=\"#000000\" points=\"2602.5,-90 2548.5,-90 2548.5,-54 2602.5,-54 2602.5,-90\"/>\n<text text-anchor=\"start\" x=\"2565.5\" y=\"-69\" font-family=\"Times\" font-size=\"10.00\" fill=\"#000000\">Relu</text>\n</g>\n<!-- /outputs/181&#45;&gt;/outputs/182 -->\n<g id=\"edge35\" class=\"edge\">\n<title>/outputs/181&#45;&gt;/outputs/182</title>\n<path fill=\"none\" stroke=\"#000000\" d=\"M2508.0964,-72C2517.6722,-72 2528.281,-72 2538.194,-72\"/>\n<polygon fill=\"#000000\" stroke=\"#000000\" points=\"2538.2001,-75.5001 2548.2001,-72 2538.2001,-68.5001 2538.2001,-75.5001\"/>\n</g>\n<!-- /outputs/183 -->\n<g id=\"node33\" class=\"node\">\n<title>/outputs/183</title>\n<polygon fill=\"#e8e8e8\" stroke=\"#000000\" points=\"2698,-89 2643,-89 2643,-53 2698,-53 2698,-89\"/>\n<text text-anchor=\"start\" x=\"2651.5\" y=\"-68\" font-family=\"Times\" font-size=\"10.00\" fill=\"#000000\">Conv3x3</text>\n</g>\n<!-- /outputs/182&#45;&gt;/outputs/183 -->\n<g id=\"edge36\" class=\"edge\">\n<title>/outputs/182&#45;&gt;/outputs/183</title>\n<path fill=\"none\" stroke=\"#000000\" d=\"M2602.7232,-71.7134C2612.0826,-71.6149 2622.7351,-71.5028 2632.778,-71.3971\"/>\n<polygon fill=\"#000000\" stroke=\"#000000\" points=\"2632.9808,-74.8952 2642.9433,-71.2901 2632.907,-67.8956 2632.9808,-74.8952\"/>\n</g>\n<!-- /outputs/184 -->\n<g id=\"node34\" class=\"node\">\n<title>/outputs/184</title>\n<polygon fill=\"#e8e8e8\" stroke=\"#000000\" points=\"2797,-88 2734,-88 2734,-52 2797,-52 2797,-88\"/>\n<text text-anchor=\"start\" x=\"2742.5\" y=\"-67\" font-family=\"Times\" font-size=\"10.00\" fill=\"#000000\">BatchNorm</text>\n</g>\n<!-- /outputs/183&#45;&gt;/outputs/184 -->\n<g id=\"edge37\" class=\"edge\">\n<title>/outputs/183&#45;&gt;/outputs/184</title>\n<path fill=\"none\" stroke=\"#000000\" d=\"M2698.2333,-70.7081C2706.1762,-70.6245 2715.0166,-70.5314 2723.6087,-70.441\"/>\n<polygon fill=\"#000000\" stroke=\"#000000\" points=\"2723.9265,-73.9379 2733.8891,-70.3327 2723.8527,-66.9383 2723.9265,-73.9379\"/>\n</g>\n<!-- /outputs/187 -->\n<g id=\"node37\" class=\"node\">\n<title>/outputs/187</title>\n<polygon fill=\"#e8e8e8\" stroke=\"#000000\" points=\"2887,-63 2833,-63 2833,-27 2887,-27 2887,-63\"/>\n<text text-anchor=\"start\" x=\"2851\" y=\"-42\" font-family=\"Times\" font-size=\"10.00\" fill=\"#000000\">Add</text>\n</g>\n<!-- /outputs/184&#45;&gt;/outputs/187 -->\n<g id=\"edge38\" class=\"edge\">\n<title>/outputs/184&#45;&gt;/outputs/187</title>\n<path fill=\"none\" stroke=\"#000000\" d=\"M2797.23,-61.6058C2805.5545,-59.4036 2814.6019,-57.0101 2823.1685,-54.7438\"/>\n<polygon fill=\"#000000\" stroke=\"#000000\" points=\"2824.1597,-58.1021 2832.932,-52.1609 2822.3694,-51.3349 2824.1597,-58.1021\"/>\n</g>\n<!-- /outputs/186 -->\n<g id=\"node36\" class=\"node\">\n<title>/outputs/186</title>\n<polygon fill=\"#e8e8e8\" stroke=\"#000000\" points=\"2607,-36 2544,-36 2544,0 2607,0 2607,-36\"/>\n<text text-anchor=\"start\" x=\"2552.5\" y=\"-15\" font-family=\"Times\" font-size=\"10.00\" fill=\"#000000\">BatchNorm</text>\n</g>\n<!-- /outputs/185&#45;&gt;/outputs/186 -->\n<g id=\"edge39\" class=\"edge\">\n<title>/outputs/185&#45;&gt;/outputs/186</title>\n<path fill=\"none\" stroke=\"#000000\" d=\"M2504.077,-18C2513.2491,-18 2523.6795,-18 2533.6812,-18\"/>\n<polygon fill=\"#000000\" stroke=\"#000000\" points=\"2533.8781,-21.5001 2543.878,-18 2533.878,-14.5001 2533.8781,-21.5001\"/>\n</g>\n<!-- /outputs/186&#45;&gt;/outputs/187 -->\n<g id=\"edge40\" class=\"edge\">\n<title>/outputs/186&#45;&gt;/outputs/187</title>\n<path fill=\"none\" stroke=\"#000000\" d=\"M2607.0335,-20.9926C2659.9042,-26.0102 2766.1766,-36.0958 2822.6828,-41.4585\"/>\n<polygon fill=\"#000000\" stroke=\"#000000\" points=\"2822.6744,-44.9733 2832.9604,-42.4338 2823.3358,-38.0046 2822.6744,-44.9733\"/>\n</g>\n<!-- /outputs/188 -->\n<g id=\"node38\" class=\"node\">\n<title>/outputs/188</title>\n<polygon fill=\"#e8e8e8\" stroke=\"#000000\" points=\"2977,-63 2923,-63 2923,-27 2977,-27 2977,-63\"/>\n<text text-anchor=\"start\" x=\"2940\" y=\"-42\" font-family=\"Times\" font-size=\"10.00\" fill=\"#000000\">Relu</text>\n</g>\n<!-- /outputs/187&#45;&gt;/outputs/188 -->\n<g id=\"edge41\" class=\"edge\">\n<title>/outputs/187&#45;&gt;/outputs/188</title>\n<path fill=\"none\" stroke=\"#000000\" d=\"M2887.003,-45C2895.0277,-45 2903.9665,-45 2912.5309,-45\"/>\n<polygon fill=\"#000000\" stroke=\"#000000\" points=\"2912.7051,-48.5001 2922.705,-45 2912.705,-41.5001 2912.7051,-48.5001\"/>\n</g>\n<!-- /outputs/189 -->\n<g id=\"node39\" class=\"node\">\n<title>/outputs/189</title>\n<polygon fill=\"#e8e8e8\" stroke=\"#000000\" points=\"3068,-88 3013,-88 3013,-52 3068,-52 3068,-88\"/>\n<text text-anchor=\"start\" x=\"3021.5\" y=\"-67\" font-family=\"Times\" font-size=\"10.00\" fill=\"#000000\">Conv3x3</text>\n</g>\n<!-- /outputs/188&#45;&gt;/outputs/189 -->\n<g id=\"edge42\" class=\"edge\">\n<title>/outputs/188&#45;&gt;/outputs/189</title>\n<path fill=\"none\" stroke=\"#000000\" d=\"M2977.153,-52.5008C2985.2361,-54.7337 2994.2416,-57.2214 3002.867,-59.6041\"/>\n<polygon fill=\"#000000\" stroke=\"#000000\" points=\"3002.1687,-63.0423 3012.7397,-62.3314 3004.0327,-56.295 3002.1687,-63.0423\"/>\n</g>\n<!-- /outputs/194 -->\n<g id=\"node44\" class=\"node\">\n<title>/outputs/194</title>\n<polygon fill=\"#e8e8e8\" stroke=\"#000000\" points=\"3163,-36 3108,-36 3108,0 3163,0 3163,-36\"/>\n<text text-anchor=\"start\" x=\"3116.5\" y=\"-15\" font-family=\"Times\" font-size=\"10.00\" fill=\"#000000\">Conv1x1</text>\n</g>\n<!-- /outputs/188&#45;&gt;/outputs/194 -->\n<g id=\"edge43\" class=\"edge\">\n<title>/outputs/188&#45;&gt;/outputs/194</title>\n<path fill=\"none\" stroke=\"#000000\" d=\"M2977.3712,-41.0161C3009.2003,-36.3832 3061.9297,-28.7083 3097.6641,-23.5071\"/>\n<polygon fill=\"#000000\" stroke=\"#000000\" points=\"3098.3215,-26.9484 3107.7131,-22.0445 3097.3132,-20.0214 3098.3215,-26.9484\"/>\n</g>\n<!-- /outputs/190 -->\n<g id=\"node40\" class=\"node\">\n<title>/outputs/190</title>\n<polygon fill=\"#e8e8e8\" stroke=\"#000000\" points=\"3167,-90 3104,-90 3104,-54 3167,-54 3167,-90\"/>\n<text text-anchor=\"start\" x=\"3112.5\" y=\"-69\" font-family=\"Times\" font-size=\"10.00\" fill=\"#000000\">BatchNorm</text>\n</g>\n<!-- /outputs/189&#45;&gt;/outputs/190 -->\n<g id=\"edge44\" class=\"edge\">\n<title>/outputs/189&#45;&gt;/outputs/190</title>\n<path fill=\"none\" stroke=\"#000000\" d=\"M3068.2333,-70.5839C3076.1762,-70.7511 3085.0166,-70.9372 3093.6087,-71.1181\"/>\n<polygon fill=\"#000000\" stroke=\"#000000\" points=\"3093.8176,-74.6232 3103.8891,-71.3345 3093.965,-67.6247 3093.8176,-74.6232\"/>\n</g>\n<!-- /outputs/191 -->\n<g id=\"node41\" class=\"node\">\n<title>/outputs/191</title>\n<polygon fill=\"#e8e8e8\" stroke=\"#000000\" points=\"3261.5,-90 3207.5,-90 3207.5,-54 3261.5,-54 3261.5,-90\"/>\n<text text-anchor=\"start\" x=\"3224.5\" y=\"-69\" font-family=\"Times\" font-size=\"10.00\" fill=\"#000000\">Relu</text>\n</g>\n<!-- /outputs/190&#45;&gt;/outputs/191 -->\n<g id=\"edge45\" class=\"edge\">\n<title>/outputs/190&#45;&gt;/outputs/191</title>\n<path fill=\"none\" stroke=\"#000000\" d=\"M3167.0964,-72C3176.6722,-72 3187.281,-72 3197.194,-72\"/>\n<polygon fill=\"#000000\" stroke=\"#000000\" points=\"3197.2001,-75.5001 3207.2001,-72 3197.2001,-68.5001 3197.2001,-75.5001\"/>\n</g>\n<!-- /outputs/192 -->\n<g id=\"node42\" class=\"node\">\n<title>/outputs/192</title>\n<polygon fill=\"#e8e8e8\" stroke=\"#000000\" points=\"3357,-89 3302,-89 3302,-53 3357,-53 3357,-89\"/>\n<text text-anchor=\"start\" x=\"3310.5\" y=\"-68\" font-family=\"Times\" font-size=\"10.00\" fill=\"#000000\">Conv3x3</text>\n</g>\n<!-- /outputs/191&#45;&gt;/outputs/192 -->\n<g id=\"edge46\" class=\"edge\">\n<title>/outputs/191&#45;&gt;/outputs/192</title>\n<path fill=\"none\" stroke=\"#000000\" d=\"M3261.7232,-71.7134C3271.0826,-71.6149 3281.7351,-71.5028 3291.778,-71.3971\"/>\n<polygon fill=\"#000000\" stroke=\"#000000\" points=\"3291.9808,-74.8952 3301.9433,-71.2901 3291.907,-67.8956 3291.9808,-74.8952\"/>\n</g>\n<!-- /outputs/193 -->\n<g id=\"node43\" class=\"node\">\n<title>/outputs/193</title>\n<polygon fill=\"#e8e8e8\" stroke=\"#000000\" points=\"3456,-88 3393,-88 3393,-52 3456,-52 3456,-88\"/>\n<text text-anchor=\"start\" x=\"3401.5\" y=\"-67\" font-family=\"Times\" font-size=\"10.00\" fill=\"#000000\">BatchNorm</text>\n</g>\n<!-- /outputs/192&#45;&gt;/outputs/193 -->\n<g id=\"edge47\" class=\"edge\">\n<title>/outputs/192&#45;&gt;/outputs/193</title>\n<path fill=\"none\" stroke=\"#000000\" d=\"M3357.2333,-70.7081C3365.1762,-70.6245 3374.0166,-70.5314 3382.6087,-70.441\"/>\n<polygon fill=\"#000000\" stroke=\"#000000\" points=\"3382.9265,-73.9379 3392.8891,-70.3327 3382.8527,-66.9383 3382.9265,-73.9379\"/>\n</g>\n<!-- /outputs/196 -->\n<g id=\"node46\" class=\"node\">\n<title>/outputs/196</title>\n<polygon fill=\"#e8e8e8\" stroke=\"#000000\" points=\"3546,-63 3492,-63 3492,-27 3546,-27 3546,-63\"/>\n<text text-anchor=\"start\" x=\"3510\" y=\"-42\" font-family=\"Times\" font-size=\"10.00\" fill=\"#000000\">Add</text>\n</g>\n<!-- /outputs/193&#45;&gt;/outputs/196 -->\n<g id=\"edge48\" class=\"edge\">\n<title>/outputs/193&#45;&gt;/outputs/196</title>\n<path fill=\"none\" stroke=\"#000000\" d=\"M3456.23,-61.6058C3464.5545,-59.4036 3473.6019,-57.0101 3482.1685,-54.7438\"/>\n<polygon fill=\"#000000\" stroke=\"#000000\" points=\"3483.1597,-58.1021 3491.932,-52.1609 3481.3694,-51.3349 3483.1597,-58.1021\"/>\n</g>\n<!-- /outputs/195 -->\n<g id=\"node45\" class=\"node\">\n<title>/outputs/195</title>\n<polygon fill=\"#e8e8e8\" stroke=\"#000000\" points=\"3266,-36 3203,-36 3203,0 3266,0 3266,-36\"/>\n<text text-anchor=\"start\" x=\"3211.5\" y=\"-15\" font-family=\"Times\" font-size=\"10.00\" fill=\"#000000\">BatchNorm</text>\n</g>\n<!-- /outputs/194&#45;&gt;/outputs/195 -->\n<g id=\"edge49\" class=\"edge\">\n<title>/outputs/194&#45;&gt;/outputs/195</title>\n<path fill=\"none\" stroke=\"#000000\" d=\"M3163.077,-18C3172.2491,-18 3182.6795,-18 3192.6812,-18\"/>\n<polygon fill=\"#000000\" stroke=\"#000000\" points=\"3192.8781,-21.5001 3202.878,-18 3192.878,-14.5001 3192.8781,-21.5001\"/>\n</g>\n<!-- /outputs/195&#45;&gt;/outputs/196 -->\n<g id=\"edge50\" class=\"edge\">\n<title>/outputs/195&#45;&gt;/outputs/196</title>\n<path fill=\"none\" stroke=\"#000000\" d=\"M3266.0335,-20.9926C3318.9042,-26.0102 3425.1766,-36.0958 3481.6828,-41.4585\"/>\n<polygon fill=\"#000000\" stroke=\"#000000\" points=\"3481.6744,-44.9733 3491.9604,-42.4338 3482.3358,-38.0046 3481.6744,-44.9733\"/>\n</g>\n<!-- /outputs/197 -->\n<g id=\"node47\" class=\"node\">\n<title>/outputs/197</title>\n<polygon fill=\"#e8e8e8\" stroke=\"#000000\" points=\"3636,-63 3582,-63 3582,-27 3636,-27 3636,-63\"/>\n<text text-anchor=\"start\" x=\"3599\" y=\"-42\" font-family=\"Times\" font-size=\"10.00\" fill=\"#000000\">Relu</text>\n</g>\n<!-- /outputs/196&#45;&gt;/outputs/197 -->\n<g id=\"edge51\" class=\"edge\">\n<title>/outputs/196&#45;&gt;/outputs/197</title>\n<path fill=\"none\" stroke=\"#000000\" d=\"M3546.003,-45C3554.0277,-45 3562.9665,-45 3571.5309,-45\"/>\n<polygon fill=\"#000000\" stroke=\"#000000\" points=\"3571.7051,-48.5001 3581.705,-45 3571.705,-41.5001 3571.7051,-48.5001\"/>\n</g>\n<!-- /outputs/198 -->\n<g id=\"node48\" class=\"node\">\n<title>/outputs/198</title>\n<polygon fill=\"#e8e8e8\" stroke=\"#000000\" points=\"3727,-88 3672,-88 3672,-52 3727,-52 3727,-88\"/>\n<text text-anchor=\"start\" x=\"3680.5\" y=\"-67\" font-family=\"Times\" font-size=\"10.00\" fill=\"#000000\">Conv3x3</text>\n</g>\n<!-- /outputs/197&#45;&gt;/outputs/198 -->\n<g id=\"edge52\" class=\"edge\">\n<title>/outputs/197&#45;&gt;/outputs/198</title>\n<path fill=\"none\" stroke=\"#000000\" d=\"M3636.153,-52.5008C3644.2361,-54.7337 3653.2416,-57.2214 3661.867,-59.6041\"/>\n<polygon fill=\"#000000\" stroke=\"#000000\" points=\"3661.1687,-63.0423 3671.7397,-62.3314 3663.0327,-56.295 3661.1687,-63.0423\"/>\n</g>\n<!-- /outputs/203 -->\n<g id=\"node53\" class=\"node\">\n<title>/outputs/203</title>\n<polygon fill=\"#e8e8e8\" stroke=\"#000000\" points=\"3822,-36 3767,-36 3767,0 3822,0 3822,-36\"/>\n<text text-anchor=\"start\" x=\"3775.5\" y=\"-15\" font-family=\"Times\" font-size=\"10.00\" fill=\"#000000\">Conv1x1</text>\n</g>\n<!-- /outputs/197&#45;&gt;/outputs/203 -->\n<g id=\"edge53\" class=\"edge\">\n<title>/outputs/197&#45;&gt;/outputs/203</title>\n<path fill=\"none\" stroke=\"#000000\" d=\"M3636.3712,-41.0161C3668.2003,-36.3832 3720.9297,-28.7083 3756.6641,-23.5071\"/>\n<polygon fill=\"#000000\" stroke=\"#000000\" points=\"3757.3215,-26.9484 3766.7131,-22.0445 3756.3132,-20.0214 3757.3215,-26.9484\"/>\n</g>\n<!-- /outputs/199 -->\n<g id=\"node49\" class=\"node\">\n<title>/outputs/199</title>\n<polygon fill=\"#e8e8e8\" stroke=\"#000000\" points=\"3826,-90 3763,-90 3763,-54 3826,-54 3826,-90\"/>\n<text text-anchor=\"start\" x=\"3771.5\" y=\"-69\" font-family=\"Times\" font-size=\"10.00\" fill=\"#000000\">BatchNorm</text>\n</g>\n<!-- /outputs/198&#45;&gt;/outputs/199 -->\n<g id=\"edge54\" class=\"edge\">\n<title>/outputs/198&#45;&gt;/outputs/199</title>\n<path fill=\"none\" stroke=\"#000000\" d=\"M3727.2333,-70.5839C3735.1762,-70.7511 3744.0166,-70.9372 3752.6087,-71.1181\"/>\n<polygon fill=\"#000000\" stroke=\"#000000\" points=\"3752.8176,-74.6232 3762.8891,-71.3345 3752.965,-67.6247 3752.8176,-74.6232\"/>\n</g>\n<!-- /outputs/200 -->\n<g id=\"node50\" class=\"node\">\n<title>/outputs/200</title>\n<polygon fill=\"#e8e8e8\" stroke=\"#000000\" points=\"3920.5,-90 3866.5,-90 3866.5,-54 3920.5,-54 3920.5,-90\"/>\n<text text-anchor=\"start\" x=\"3883.5\" y=\"-69\" font-family=\"Times\" font-size=\"10.00\" fill=\"#000000\">Relu</text>\n</g>\n<!-- /outputs/199&#45;&gt;/outputs/200 -->\n<g id=\"edge55\" class=\"edge\">\n<title>/outputs/199&#45;&gt;/outputs/200</title>\n<path fill=\"none\" stroke=\"#000000\" d=\"M3826.0964,-72C3835.6722,-72 3846.281,-72 3856.194,-72\"/>\n<polygon fill=\"#000000\" stroke=\"#000000\" points=\"3856.2001,-75.5001 3866.2001,-72 3856.2001,-68.5001 3856.2001,-75.5001\"/>\n</g>\n<!-- /outputs/201 -->\n<g id=\"node51\" class=\"node\">\n<title>/outputs/201</title>\n<polygon fill=\"#e8e8e8\" stroke=\"#000000\" points=\"4016,-89 3961,-89 3961,-53 4016,-53 4016,-89\"/>\n<text text-anchor=\"start\" x=\"3969.5\" y=\"-68\" font-family=\"Times\" font-size=\"10.00\" fill=\"#000000\">Conv3x3</text>\n</g>\n<!-- /outputs/200&#45;&gt;/outputs/201 -->\n<g id=\"edge56\" class=\"edge\">\n<title>/outputs/200&#45;&gt;/outputs/201</title>\n<path fill=\"none\" stroke=\"#000000\" d=\"M3920.7232,-71.7134C3930.0826,-71.6149 3940.7351,-71.5028 3950.778,-71.3971\"/>\n<polygon fill=\"#000000\" stroke=\"#000000\" points=\"3950.9808,-74.8952 3960.9433,-71.2901 3950.907,-67.8956 3950.9808,-74.8952\"/>\n</g>\n<!-- /outputs/202 -->\n<g id=\"node52\" class=\"node\">\n<title>/outputs/202</title>\n<polygon fill=\"#e8e8e8\" stroke=\"#000000\" points=\"4115,-88 4052,-88 4052,-52 4115,-52 4115,-88\"/>\n<text text-anchor=\"start\" x=\"4060.5\" y=\"-67\" font-family=\"Times\" font-size=\"10.00\" fill=\"#000000\">BatchNorm</text>\n</g>\n<!-- /outputs/201&#45;&gt;/outputs/202 -->\n<g id=\"edge57\" class=\"edge\">\n<title>/outputs/201&#45;&gt;/outputs/202</title>\n<path fill=\"none\" stroke=\"#000000\" d=\"M4016.2333,-70.7081C4024.1762,-70.6245 4033.0166,-70.5314 4041.6087,-70.441\"/>\n<polygon fill=\"#000000\" stroke=\"#000000\" points=\"4041.9265,-73.9379 4051.8891,-70.3327 4041.8527,-66.9383 4041.9265,-73.9379\"/>\n</g>\n<!-- /outputs/205 -->\n<g id=\"node55\" class=\"node\">\n<title>/outputs/205</title>\n<polygon fill=\"#e8e8e8\" stroke=\"#000000\" points=\"4205,-63 4151,-63 4151,-27 4205,-27 4205,-63\"/>\n<text text-anchor=\"start\" x=\"4169\" y=\"-42\" font-family=\"Times\" font-size=\"10.00\" fill=\"#000000\">Add</text>\n</g>\n<!-- /outputs/202&#45;&gt;/outputs/205 -->\n<g id=\"edge58\" class=\"edge\">\n<title>/outputs/202&#45;&gt;/outputs/205</title>\n<path fill=\"none\" stroke=\"#000000\" d=\"M4115.23,-61.6058C4123.5545,-59.4036 4132.6019,-57.0101 4141.1685,-54.7438\"/>\n<polygon fill=\"#000000\" stroke=\"#000000\" points=\"4142.1597,-58.1021 4150.932,-52.1609 4140.3694,-51.3349 4142.1597,-58.1021\"/>\n</g>\n<!-- /outputs/204 -->\n<g id=\"node54\" class=\"node\">\n<title>/outputs/204</title>\n<polygon fill=\"#e8e8e8\" stroke=\"#000000\" points=\"3925,-36 3862,-36 3862,0 3925,0 3925,-36\"/>\n<text text-anchor=\"start\" x=\"3870.5\" y=\"-15\" font-family=\"Times\" font-size=\"10.00\" fill=\"#000000\">BatchNorm</text>\n</g>\n<!-- /outputs/203&#45;&gt;/outputs/204 -->\n<g id=\"edge59\" class=\"edge\">\n<title>/outputs/203&#45;&gt;/outputs/204</title>\n<path fill=\"none\" stroke=\"#000000\" d=\"M3822.077,-18C3831.2491,-18 3841.6795,-18 3851.6812,-18\"/>\n<polygon fill=\"#000000\" stroke=\"#000000\" points=\"3851.8781,-21.5001 3861.878,-18 3851.878,-14.5001 3851.8781,-21.5001\"/>\n</g>\n<!-- /outputs/204&#45;&gt;/outputs/205 -->\n<g id=\"edge60\" class=\"edge\">\n<title>/outputs/204&#45;&gt;/outputs/205</title>\n<path fill=\"none\" stroke=\"#000000\" d=\"M3925.0335,-20.9926C3977.9042,-26.0102 4084.1766,-36.0958 4140.6828,-41.4585\"/>\n<polygon fill=\"#000000\" stroke=\"#000000\" points=\"4140.6744,-44.9733 4150.9604,-42.4338 4141.3358,-38.0046 4140.6744,-44.9733\"/>\n</g>\n<!-- /outputs/206 -->\n<g id=\"node56\" class=\"node\">\n<title>/outputs/206</title>\n<polygon fill=\"#e8e8e8\" stroke=\"#000000\" points=\"4295,-63 4241,-63 4241,-27 4295,-27 4295,-63\"/>\n<text text-anchor=\"start\" x=\"4258\" y=\"-42\" font-family=\"Times\" font-size=\"10.00\" fill=\"#000000\">Relu</text>\n</g>\n<!-- /outputs/205&#45;&gt;/outputs/206 -->\n<g id=\"edge61\" class=\"edge\">\n<title>/outputs/205&#45;&gt;/outputs/206</title>\n<path fill=\"none\" stroke=\"#000000\" d=\"M4205.003,-45C4213.0277,-45 4221.9665,-45 4230.5309,-45\"/>\n<polygon fill=\"#000000\" stroke=\"#000000\" points=\"4230.7051,-48.5001 4240.705,-45 4230.705,-41.5001 4230.7051,-48.5001\"/>\n</g>\n<!-- /outputs/207 -->\n<g id=\"node57\" class=\"node\">\n<title>/outputs/207</title>\n<polygon fill=\"#e8e8e8\" stroke=\"#000000\" points=\"4386,-88 4331,-88 4331,-52 4386,-52 4386,-88\"/>\n<text text-anchor=\"start\" x=\"4339.5\" y=\"-67\" font-family=\"Times\" font-size=\"10.00\" fill=\"#000000\">Conv3x3</text>\n</g>\n<!-- /outputs/206&#45;&gt;/outputs/207 -->\n<g id=\"edge62\" class=\"edge\">\n<title>/outputs/206&#45;&gt;/outputs/207</title>\n<path fill=\"none\" stroke=\"#000000\" d=\"M4295.153,-52.5008C4303.2361,-54.7337 4312.2416,-57.2214 4320.867,-59.6041\"/>\n<polygon fill=\"#000000\" stroke=\"#000000\" points=\"4320.1687,-63.0423 4330.7397,-62.3314 4322.0327,-56.295 4320.1687,-63.0423\"/>\n</g>\n<!-- /outputs/212 -->\n<g id=\"node62\" class=\"node\">\n<title>/outputs/212</title>\n<polygon fill=\"#e8e8e8\" stroke=\"#000000\" points=\"4481,-36 4426,-36 4426,0 4481,0 4481,-36\"/>\n<text text-anchor=\"start\" x=\"4434.5\" y=\"-15\" font-family=\"Times\" font-size=\"10.00\" fill=\"#000000\">Conv1x1</text>\n</g>\n<!-- /outputs/206&#45;&gt;/outputs/212 -->\n<g id=\"edge63\" class=\"edge\">\n<title>/outputs/206&#45;&gt;/outputs/212</title>\n<path fill=\"none\" stroke=\"#000000\" d=\"M4295.3712,-41.0161C4327.2003,-36.3832 4379.9297,-28.7083 4415.6641,-23.5071\"/>\n<polygon fill=\"#000000\" stroke=\"#000000\" points=\"4416.3215,-26.9484 4425.7131,-22.0445 4415.3132,-20.0214 4416.3215,-26.9484\"/>\n</g>\n<!-- /outputs/208 -->\n<g id=\"node58\" class=\"node\">\n<title>/outputs/208</title>\n<polygon fill=\"#e8e8e8\" stroke=\"#000000\" points=\"4485,-90 4422,-90 4422,-54 4485,-54 4485,-90\"/>\n<text text-anchor=\"start\" x=\"4430.5\" y=\"-69\" font-family=\"Times\" font-size=\"10.00\" fill=\"#000000\">BatchNorm</text>\n</g>\n<!-- /outputs/207&#45;&gt;/outputs/208 -->\n<g id=\"edge64\" class=\"edge\">\n<title>/outputs/207&#45;&gt;/outputs/208</title>\n<path fill=\"none\" stroke=\"#000000\" d=\"M4386.2333,-70.5839C4394.1762,-70.7511 4403.0166,-70.9372 4411.6087,-71.1181\"/>\n<polygon fill=\"#000000\" stroke=\"#000000\" points=\"4411.8176,-74.6232 4421.8891,-71.3345 4411.965,-67.6247 4411.8176,-74.6232\"/>\n</g>\n<!-- /outputs/209 -->\n<g id=\"node59\" class=\"node\">\n<title>/outputs/209</title>\n<polygon fill=\"#e8e8e8\" stroke=\"#000000\" points=\"4579.5,-90 4525.5,-90 4525.5,-54 4579.5,-54 4579.5,-90\"/>\n<text text-anchor=\"start\" x=\"4542.5\" y=\"-69\" font-family=\"Times\" font-size=\"10.00\" fill=\"#000000\">Relu</text>\n</g>\n<!-- /outputs/208&#45;&gt;/outputs/209 -->\n<g id=\"edge65\" class=\"edge\">\n<title>/outputs/208&#45;&gt;/outputs/209</title>\n<path fill=\"none\" stroke=\"#000000\" d=\"M4485.0964,-72C4494.6722,-72 4505.281,-72 4515.194,-72\"/>\n<polygon fill=\"#000000\" stroke=\"#000000\" points=\"4515.2001,-75.5001 4525.2001,-72 4515.2001,-68.5001 4515.2001,-75.5001\"/>\n</g>\n<!-- /outputs/210 -->\n<g id=\"node60\" class=\"node\">\n<title>/outputs/210</title>\n<polygon fill=\"#e8e8e8\" stroke=\"#000000\" points=\"4675,-89 4620,-89 4620,-53 4675,-53 4675,-89\"/>\n<text text-anchor=\"start\" x=\"4628.5\" y=\"-68\" font-family=\"Times\" font-size=\"10.00\" fill=\"#000000\">Conv3x3</text>\n</g>\n<!-- /outputs/209&#45;&gt;/outputs/210 -->\n<g id=\"edge66\" class=\"edge\">\n<title>/outputs/209&#45;&gt;/outputs/210</title>\n<path fill=\"none\" stroke=\"#000000\" d=\"M4579.7232,-71.7134C4589.0826,-71.6149 4599.7351,-71.5028 4609.778,-71.3971\"/>\n<polygon fill=\"#000000\" stroke=\"#000000\" points=\"4609.9808,-74.8952 4619.9433,-71.2901 4609.907,-67.8956 4609.9808,-74.8952\"/>\n</g>\n<!-- /outputs/211 -->\n<g id=\"node61\" class=\"node\">\n<title>/outputs/211</title>\n<polygon fill=\"#e8e8e8\" stroke=\"#000000\" points=\"4774,-88 4711,-88 4711,-52 4774,-52 4774,-88\"/>\n<text text-anchor=\"start\" x=\"4719.5\" y=\"-67\" font-family=\"Times\" font-size=\"10.00\" fill=\"#000000\">BatchNorm</text>\n</g>\n<!-- /outputs/210&#45;&gt;/outputs/211 -->\n<g id=\"edge67\" class=\"edge\">\n<title>/outputs/210&#45;&gt;/outputs/211</title>\n<path fill=\"none\" stroke=\"#000000\" d=\"M4675.2333,-70.7081C4683.1762,-70.6245 4692.0166,-70.5314 4700.6087,-70.441\"/>\n<polygon fill=\"#000000\" stroke=\"#000000\" points=\"4700.9265,-73.9379 4710.8891,-70.3327 4700.8527,-66.9383 4700.9265,-73.9379\"/>\n</g>\n<!-- /outputs/214 -->\n<g id=\"node64\" class=\"node\">\n<title>/outputs/214</title>\n<polygon fill=\"#e8e8e8\" stroke=\"#000000\" points=\"4864,-63 4810,-63 4810,-27 4864,-27 4864,-63\"/>\n<text text-anchor=\"start\" x=\"4828\" y=\"-42\" font-family=\"Times\" font-size=\"10.00\" fill=\"#000000\">Add</text>\n</g>\n<!-- /outputs/211&#45;&gt;/outputs/214 -->\n<g id=\"edge68\" class=\"edge\">\n<title>/outputs/211&#45;&gt;/outputs/214</title>\n<path fill=\"none\" stroke=\"#000000\" d=\"M4774.23,-61.6058C4782.5545,-59.4036 4791.6019,-57.0101 4800.1685,-54.7438\"/>\n<polygon fill=\"#000000\" stroke=\"#000000\" points=\"4801.1597,-58.1021 4809.932,-52.1609 4799.3694,-51.3349 4801.1597,-58.1021\"/>\n</g>\n<!-- /outputs/213 -->\n<g id=\"node63\" class=\"node\">\n<title>/outputs/213</title>\n<polygon fill=\"#e8e8e8\" stroke=\"#000000\" points=\"4584,-36 4521,-36 4521,0 4584,0 4584,-36\"/>\n<text text-anchor=\"start\" x=\"4529.5\" y=\"-15\" font-family=\"Times\" font-size=\"10.00\" fill=\"#000000\">BatchNorm</text>\n</g>\n<!-- /outputs/212&#45;&gt;/outputs/213 -->\n<g id=\"edge69\" class=\"edge\">\n<title>/outputs/212&#45;&gt;/outputs/213</title>\n<path fill=\"none\" stroke=\"#000000\" d=\"M4481.077,-18C4490.2491,-18 4500.6795,-18 4510.6812,-18\"/>\n<polygon fill=\"#000000\" stroke=\"#000000\" points=\"4510.8781,-21.5001 4520.878,-18 4510.878,-14.5001 4510.8781,-21.5001\"/>\n</g>\n<!-- /outputs/213&#45;&gt;/outputs/214 -->\n<g id=\"edge70\" class=\"edge\">\n<title>/outputs/213&#45;&gt;/outputs/214</title>\n<path fill=\"none\" stroke=\"#000000\" d=\"M4584.0335,-20.9926C4636.9042,-26.0102 4743.1766,-36.0958 4799.6828,-41.4585\"/>\n<polygon fill=\"#000000\" stroke=\"#000000\" points=\"4799.6744,-44.9733 4809.9604,-42.4338 4800.3358,-38.0046 4799.6744,-44.9733\"/>\n</g>\n<!-- /outputs/215 -->\n<g id=\"node65\" class=\"node\">\n<title>/outputs/215</title>\n<polygon fill=\"#e8e8e8\" stroke=\"#000000\" points=\"4954,-63 4900,-63 4900,-27 4954,-27 4954,-63\"/>\n<text text-anchor=\"start\" x=\"4917\" y=\"-42\" font-family=\"Times\" font-size=\"10.00\" fill=\"#000000\">Relu</text>\n</g>\n<!-- /outputs/214&#45;&gt;/outputs/215 -->\n<g id=\"edge71\" class=\"edge\">\n<title>/outputs/214&#45;&gt;/outputs/215</title>\n<path fill=\"none\" stroke=\"#000000\" d=\"M4864.003,-45C4872.0277,-45 4880.9665,-45 4889.5309,-45\"/>\n<polygon fill=\"#000000\" stroke=\"#000000\" points=\"4889.7051,-48.5001 4899.705,-45 4889.705,-41.5001 4889.7051,-48.5001\"/>\n</g>\n<!-- /outputs/216 -->\n<g id=\"node66\" class=\"node\">\n<title>/outputs/216</title>\n<polygon fill=\"#e8e8e8\" stroke=\"#000000\" points=\"5045,-88 4990,-88 4990,-52 5045,-52 5045,-88\"/>\n<text text-anchor=\"start\" x=\"4998.5\" y=\"-67\" font-family=\"Times\" font-size=\"10.00\" fill=\"#000000\">Conv3x3</text>\n</g>\n<!-- /outputs/215&#45;&gt;/outputs/216 -->\n<g id=\"edge72\" class=\"edge\">\n<title>/outputs/215&#45;&gt;/outputs/216</title>\n<path fill=\"none\" stroke=\"#000000\" d=\"M4954.153,-52.5008C4962.2361,-54.7337 4971.2416,-57.2214 4979.867,-59.6041\"/>\n<polygon fill=\"#000000\" stroke=\"#000000\" points=\"4979.1687,-63.0423 4989.7397,-62.3314 4981.0327,-56.295 4979.1687,-63.0423\"/>\n</g>\n<!-- /outputs/221 -->\n<g id=\"node71\" class=\"node\">\n<title>/outputs/221</title>\n<polygon fill=\"#e8e8e8\" stroke=\"#000000\" points=\"5140,-36 5085,-36 5085,0 5140,0 5140,-36\"/>\n<text text-anchor=\"start\" x=\"5093.5\" y=\"-15\" font-family=\"Times\" font-size=\"10.00\" fill=\"#000000\">Conv1x1</text>\n</g>\n<!-- /outputs/215&#45;&gt;/outputs/221 -->\n<g id=\"edge73\" class=\"edge\">\n<title>/outputs/215&#45;&gt;/outputs/221</title>\n<path fill=\"none\" stroke=\"#000000\" d=\"M4954.3712,-41.0161C4986.2003,-36.3832 5038.9297,-28.7083 5074.6641,-23.5071\"/>\n<polygon fill=\"#000000\" stroke=\"#000000\" points=\"5075.3215,-26.9484 5084.7131,-22.0445 5074.3132,-20.0214 5075.3215,-26.9484\"/>\n</g>\n<!-- /outputs/217 -->\n<g id=\"node67\" class=\"node\">\n<title>/outputs/217</title>\n<polygon fill=\"#e8e8e8\" stroke=\"#000000\" points=\"5144,-90 5081,-90 5081,-54 5144,-54 5144,-90\"/>\n<text text-anchor=\"start\" x=\"5089.5\" y=\"-69\" font-family=\"Times\" font-size=\"10.00\" fill=\"#000000\">BatchNorm</text>\n</g>\n<!-- /outputs/216&#45;&gt;/outputs/217 -->\n<g id=\"edge74\" class=\"edge\">\n<title>/outputs/216&#45;&gt;/outputs/217</title>\n<path fill=\"none\" stroke=\"#000000\" d=\"M5045.2333,-70.5839C5053.1762,-70.7511 5062.0166,-70.9372 5070.6087,-71.1181\"/>\n<polygon fill=\"#000000\" stroke=\"#000000\" points=\"5070.8176,-74.6232 5080.8891,-71.3345 5070.965,-67.6247 5070.8176,-74.6232\"/>\n</g>\n<!-- /outputs/218 -->\n<g id=\"node68\" class=\"node\">\n<title>/outputs/218</title>\n<polygon fill=\"#e8e8e8\" stroke=\"#000000\" points=\"5238.5,-90 5184.5,-90 5184.5,-54 5238.5,-54 5238.5,-90\"/>\n<text text-anchor=\"start\" x=\"5201.5\" y=\"-69\" font-family=\"Times\" font-size=\"10.00\" fill=\"#000000\">Relu</text>\n</g>\n<!-- /outputs/217&#45;&gt;/outputs/218 -->\n<g id=\"edge75\" class=\"edge\">\n<title>/outputs/217&#45;&gt;/outputs/218</title>\n<path fill=\"none\" stroke=\"#000000\" d=\"M5144.0964,-72C5153.6722,-72 5164.281,-72 5174.194,-72\"/>\n<polygon fill=\"#000000\" stroke=\"#000000\" points=\"5174.2001,-75.5001 5184.2001,-72 5174.2001,-68.5001 5174.2001,-75.5001\"/>\n</g>\n<!-- /outputs/219 -->\n<g id=\"node69\" class=\"node\">\n<title>/outputs/219</title>\n<polygon fill=\"#e8e8e8\" stroke=\"#000000\" points=\"5334,-89 5279,-89 5279,-53 5334,-53 5334,-89\"/>\n<text text-anchor=\"start\" x=\"5287.5\" y=\"-68\" font-family=\"Times\" font-size=\"10.00\" fill=\"#000000\">Conv3x3</text>\n</g>\n<!-- /outputs/218&#45;&gt;/outputs/219 -->\n<g id=\"edge76\" class=\"edge\">\n<title>/outputs/218&#45;&gt;/outputs/219</title>\n<path fill=\"none\" stroke=\"#000000\" d=\"M5238.7232,-71.7134C5248.0826,-71.6149 5258.7351,-71.5028 5268.778,-71.3971\"/>\n<polygon fill=\"#000000\" stroke=\"#000000\" points=\"5268.9808,-74.8952 5278.9433,-71.2901 5268.907,-67.8956 5268.9808,-74.8952\"/>\n</g>\n<!-- /outputs/220 -->\n<g id=\"node70\" class=\"node\">\n<title>/outputs/220</title>\n<polygon fill=\"#e8e8e8\" stroke=\"#000000\" points=\"5433,-88 5370,-88 5370,-52 5433,-52 5433,-88\"/>\n<text text-anchor=\"start\" x=\"5378.5\" y=\"-67\" font-family=\"Times\" font-size=\"10.00\" fill=\"#000000\">BatchNorm</text>\n</g>\n<!-- /outputs/219&#45;&gt;/outputs/220 -->\n<g id=\"edge77\" class=\"edge\">\n<title>/outputs/219&#45;&gt;/outputs/220</title>\n<path fill=\"none\" stroke=\"#000000\" d=\"M5334.2333,-70.7081C5342.1762,-70.6245 5351.0166,-70.5314 5359.6087,-70.441\"/>\n<polygon fill=\"#000000\" stroke=\"#000000\" points=\"5359.9265,-73.9379 5369.8891,-70.3327 5359.8527,-66.9383 5359.9265,-73.9379\"/>\n</g>\n<!-- /outputs/223 -->\n<g id=\"node73\" class=\"node\">\n<title>/outputs/223</title>\n<polygon fill=\"#e8e8e8\" stroke=\"#000000\" points=\"5523,-63 5469,-63 5469,-27 5523,-27 5523,-63\"/>\n<text text-anchor=\"start\" x=\"5487\" y=\"-42\" font-family=\"Times\" font-size=\"10.00\" fill=\"#000000\">Add</text>\n</g>\n<!-- /outputs/220&#45;&gt;/outputs/223 -->\n<g id=\"edge78\" class=\"edge\">\n<title>/outputs/220&#45;&gt;/outputs/223</title>\n<path fill=\"none\" stroke=\"#000000\" d=\"M5433.23,-61.6058C5441.5545,-59.4036 5450.6019,-57.0101 5459.1685,-54.7438\"/>\n<polygon fill=\"#000000\" stroke=\"#000000\" points=\"5460.1597,-58.1021 5468.932,-52.1609 5458.3694,-51.3349 5460.1597,-58.1021\"/>\n</g>\n<!-- /outputs/222 -->\n<g id=\"node72\" class=\"node\">\n<title>/outputs/222</title>\n<polygon fill=\"#e8e8e8\" stroke=\"#000000\" points=\"5243,-36 5180,-36 5180,0 5243,0 5243,-36\"/>\n<text text-anchor=\"start\" x=\"5188.5\" y=\"-15\" font-family=\"Times\" font-size=\"10.00\" fill=\"#000000\">BatchNorm</text>\n</g>\n<!-- /outputs/221&#45;&gt;/outputs/222 -->\n<g id=\"edge79\" class=\"edge\">\n<title>/outputs/221&#45;&gt;/outputs/222</title>\n<path fill=\"none\" stroke=\"#000000\" d=\"M5140.077,-18C5149.2491,-18 5159.6795,-18 5169.6812,-18\"/>\n<polygon fill=\"#000000\" stroke=\"#000000\" points=\"5169.8781,-21.5001 5179.878,-18 5169.878,-14.5001 5169.8781,-21.5001\"/>\n</g>\n<!-- /outputs/222&#45;&gt;/outputs/223 -->\n<g id=\"edge80\" class=\"edge\">\n<title>/outputs/222&#45;&gt;/outputs/223</title>\n<path fill=\"none\" stroke=\"#000000\" d=\"M5243.0335,-20.9926C5295.9042,-26.0102 5402.1766,-36.0958 5458.6828,-41.4585\"/>\n<polygon fill=\"#000000\" stroke=\"#000000\" points=\"5458.6744,-44.9733 5468.9604,-42.4338 5459.3358,-38.0046 5458.6744,-44.9733\"/>\n</g>\n<!-- /outputs/224 -->\n<g id=\"node74\" class=\"node\">\n<title>/outputs/224</title>\n<polygon fill=\"#e8e8e8\" stroke=\"#000000\" points=\"5613,-63 5559,-63 5559,-27 5613,-27 5613,-63\"/>\n<text text-anchor=\"start\" x=\"5576\" y=\"-42\" font-family=\"Times\" font-size=\"10.00\" fill=\"#000000\">Relu</text>\n</g>\n<!-- /outputs/223&#45;&gt;/outputs/224 -->\n<g id=\"edge81\" class=\"edge\">\n<title>/outputs/223&#45;&gt;/outputs/224</title>\n<path fill=\"none\" stroke=\"#000000\" d=\"M5523.003,-45C5531.0277,-45 5539.9665,-45 5548.5309,-45\"/>\n<polygon fill=\"#000000\" stroke=\"#000000\" points=\"5548.7051,-48.5001 5558.705,-45 5548.705,-41.5001 5548.7051,-48.5001\"/>\n</g>\n<!-- /outputs/225 -->\n<g id=\"node75\" class=\"node\">\n<title>/outputs/225</title>\n<polygon fill=\"#e8e8e8\" stroke=\"#000000\" points=\"5703,-63 5649,-63 5649,-27 5703,-27 5703,-63\"/>\n<text text-anchor=\"start\" x=\"5668\" y=\"-42\" font-family=\"Times\" font-size=\"10.00\" fill=\"#000000\">Pad</text>\n</g>\n<!-- /outputs/224&#45;&gt;/outputs/225 -->\n<g id=\"edge82\" class=\"edge\">\n<title>/outputs/224&#45;&gt;/outputs/225</title>\n<path fill=\"none\" stroke=\"#000000\" d=\"M5613.003,-45C5621.0277,-45 5629.9665,-45 5638.5309,-45\"/>\n<polygon fill=\"#000000\" stroke=\"#000000\" points=\"5638.7051,-48.5001 5648.705,-45 5638.705,-41.5001 5638.7051,-48.5001\"/>\n</g>\n<!-- /outputs/226 -->\n<g id=\"node76\" class=\"node\">\n<title>/outputs/226</title>\n<polygon fill=\"#e8e8e8\" stroke=\"#000000\" points=\"5823,-63 5739,-63 5739,-27 5823,-27 5823,-63\"/>\n<text text-anchor=\"start\" x=\"5747\" y=\"-42\" font-family=\"Times\" font-size=\"10.00\" fill=\"#000000\">AveragePool2x2</text>\n</g>\n<!-- /outputs/225&#45;&gt;/outputs/226 -->\n<g id=\"edge83\" class=\"edge\">\n<title>/outputs/225&#45;&gt;/outputs/226</title>\n<path fill=\"none\" stroke=\"#000000\" d=\"M5703.0401,-45C5710.9868,-45 5719.9603,-45 5728.9177,-45\"/>\n<polygon fill=\"#000000\" stroke=\"#000000\" points=\"5728.9683,-48.5001 5738.9683,-45 5728.9683,-41.5001 5728.9683,-48.5001\"/>\n</g>\n<!-- /outputs/227 -->\n<g id=\"node77\" class=\"node\">\n<title>/outputs/227</title>\n<polygon fill=\"#e8e8e8\" stroke=\"#000000\" points=\"5913,-63 5859,-63 5859,-27 5913,-27 5913,-63\"/>\n<text text-anchor=\"start\" x=\"5872\" y=\"-42\" font-family=\"Times\" font-size=\"10.00\" fill=\"#000000\">Flatten</text>\n</g>\n<!-- /outputs/226&#45;&gt;/outputs/227 -->\n<g id=\"edge84\" class=\"edge\">\n<title>/outputs/226&#45;&gt;/outputs/227</title>\n<path fill=\"none\" stroke=\"#000000\" d=\"M5823.1025,-45C5831.6072,-45 5840.491,-45 5848.8124,-45\"/>\n<polygon fill=\"#000000\" stroke=\"#000000\" points=\"5848.9812,-48.5001 5858.9812,-45 5848.9812,-41.5001 5848.9812,-48.5001\"/>\n</g>\n<!-- /outputs/228 -->\n<g id=\"node78\" class=\"node\">\n<title>/outputs/228</title>\n<polygon fill=\"#e8e8e8\" stroke=\"#000000\" points=\"6003,-63 5949,-63 5949,-27 6003,-27 6003,-63\"/>\n<text text-anchor=\"start\" x=\"5963\" y=\"-42\" font-family=\"Times\" font-size=\"10.00\" fill=\"#000000\">Linear</text>\n</g>\n<!-- /outputs/227&#45;&gt;/outputs/228 -->\n<g id=\"edge85\" class=\"edge\">\n<title>/outputs/227&#45;&gt;/outputs/228</title>\n<path fill=\"none\" stroke=\"#000000\" d=\"M5913.003,-45C5921.0277,-45 5929.9665,-45 5938.5309,-45\"/>\n<polygon fill=\"#000000\" stroke=\"#000000\" points=\"5938.7051,-48.5001 5948.705,-45 5938.705,-41.5001 5938.7051,-48.5001\"/>\n</g>\n<!-- /outputs/229 -->\n<g id=\"node79\" class=\"node\">\n<title>/outputs/229</title>\n<polygon fill=\"#e8e8e8\" stroke=\"#000000\" points=\"6093,-63 6039,-63 6039,-27 6093,-27 6093,-63\"/>\n<text text-anchor=\"start\" x=\"6053\" y=\"-42\" font-family=\"Times\" font-size=\"10.00\" fill=\"#000000\">Linear</text>\n</g>\n<!-- /outputs/228&#45;&gt;/outputs/229 -->\n<g id=\"edge86\" class=\"edge\">\n<title>/outputs/228&#45;&gt;/outputs/229</title>\n<path fill=\"none\" stroke=\"#000000\" d=\"M6003.003,-45C6011.0277,-45 6019.9665,-45 6028.5309,-45\"/>\n<polygon fill=\"#000000\" stroke=\"#000000\" points=\"6028.7051,-48.5001 6038.705,-45 6028.705,-41.5001 6028.7051,-48.5001\"/>\n</g>\n<!-- /outputs/230 -->\n<g id=\"node80\" class=\"node\">\n<title>/outputs/230</title>\n<polygon fill=\"#e8e8e8\" stroke=\"#000000\" points=\"6183,-63 6129,-63 6129,-27 6183,-27 6183,-63\"/>\n<text text-anchor=\"start\" x=\"6143\" y=\"-42\" font-family=\"Times\" font-size=\"10.00\" fill=\"#000000\">Linear</text>\n</g>\n<!-- /outputs/229&#45;&gt;/outputs/230 -->\n<g id=\"edge87\" class=\"edge\">\n<title>/outputs/229&#45;&gt;/outputs/230</title>\n<path fill=\"none\" stroke=\"#000000\" d=\"M6093.003,-45C6101.0277,-45 6109.9665,-45 6118.5309,-45\"/>\n<polygon fill=\"#000000\" stroke=\"#000000\" points=\"6118.7051,-48.5001 6128.705,-45 6118.705,-41.5001 6118.7051,-48.5001\"/>\n</g>\n</g>\n</svg>\n"
          },
          "metadata": {
            "tags": []
          },
          "execution_count": 33
        }
      ]
    },
    {
      "cell_type": "code",
      "metadata": {
        "id": "cQrqw2D3dtP-"
      },
      "source": [
        "def findAccuracy(outputs, labels):\n",
        "  accuracy = 0\n",
        "  for i in range(len(outputs)):\n",
        "    if outputs[i].cpu().detach().numpy().argmax() == labels[i]:\n",
        "      accuracy += 1\n",
        "\n",
        "  return (accuracy/len(outputs))\n"
      ],
      "execution_count": 45,
      "outputs": []
    },
    {
      "cell_type": "code",
      "metadata": {
        "colab": {
          "base_uri": "https://localhost:8080/"
        },
        "id": "VjWjzRPPi7hY",
        "outputId": "577bd3f8-b982-4c84-93cf-17112650473f"
      },
      "source": [
        "import torch.optim as optim\n",
        "lossFunc = nn.CrossEntropyLoss()\n",
        "opt = optim.SGD(convModel.parameters(), lr=0.001) \n",
        "\n",
        "num_epochs = 10\n",
        "\n",
        "testLoss = []\n",
        "testAcc = []\n",
        "\n",
        "for epoch in range(num_epochs):\n",
        "  running_loss = 0\n",
        "  running_acc = 0\n",
        "  for i, data in enumerate(train_dl, 0):\n",
        "    images, labels = data\n",
        "    images, labels = images.to(device), labels.to(device)\n",
        "    \n",
        "    opt.zero_grad()\n",
        "\n",
        "    outputs = convModel(images)\n",
        "\n",
        "    loss = lossFunc(outputs, labels)\n",
        "    loss.backward()\n",
        "    opt.step()\n",
        "\n",
        "    running_acc += findAccuracy(outputs, labels)\n",
        "\n",
        "    running_loss += loss.item()\n",
        "    if i % 1000 == 999:\n",
        "      testLoss.append(running_loss)\n",
        "      testAcc.append(running_acc/10)\n",
        "      print(\"[%d, %5d] loss: %.5f acc: %.3f%%\" % (epoch + 1, i + 1, running_loss / 1000, running_acc / 10))\n",
        "      running_loss = 0\n",
        "      running_acc = 0\n",
        "\n",
        "print(\"Done!\")"
      ],
      "execution_count": 46,
      "outputs": [
        {
          "output_type": "stream",
          "text": [
            "[1,  1000] loss: 3.45826 acc: 23.290%\n",
            "[1,  2000] loss: 2.38822 acc: 54.700%\n",
            "[1,  3000] loss: 1.26932 acc: 74.540%\n",
            "[1,  4000] loss: 0.74823 acc: 82.420%\n",
            "[1,  5000] loss: 0.54507 acc: 85.460%\n",
            "[1,  6000] loss: 0.44735 acc: 87.180%\n",
            "[1,  7000] loss: 0.37793 acc: 88.790%\n",
            "[2,  1000] loss: 0.29403 acc: 90.640%\n",
            "[2,  2000] loss: 0.28358 acc: 91.050%\n",
            "[2,  3000] loss: 0.28380 acc: 91.160%\n",
            "[2,  4000] loss: 0.25971 acc: 91.640%\n",
            "[2,  5000] loss: 0.25162 acc: 91.820%\n",
            "[2,  6000] loss: 0.25103 acc: 91.480%\n",
            "[2,  7000] loss: 0.24592 acc: 91.750%\n",
            "[3,  1000] loss: 0.19664 acc: 93.050%\n",
            "[3,  2000] loss: 0.19014 acc: 93.590%\n",
            "[3,  3000] loss: 0.19829 acc: 93.230%\n",
            "[3,  4000] loss: 0.18710 acc: 93.290%\n",
            "[3,  5000] loss: 0.19220 acc: 93.110%\n",
            "[3,  6000] loss: 0.18330 acc: 93.570%\n",
            "[3,  7000] loss: 0.18261 acc: 93.600%\n",
            "[4,  1000] loss: 0.15282 acc: 94.470%\n",
            "[4,  2000] loss: 0.15773 acc: 94.330%\n",
            "[4,  3000] loss: 0.16253 acc: 94.010%\n",
            "[4,  4000] loss: 0.15957 acc: 94.240%\n",
            "[4,  5000] loss: 0.15210 acc: 94.410%\n",
            "[4,  6000] loss: 0.15031 acc: 94.250%\n",
            "[4,  7000] loss: 0.15786 acc: 94.210%\n",
            "[5,  1000] loss: 0.12955 acc: 95.300%\n",
            "[5,  2000] loss: 0.13476 acc: 94.830%\n",
            "[5,  3000] loss: 0.12882 acc: 95.330%\n",
            "[5,  4000] loss: 0.13552 acc: 95.140%\n",
            "[5,  5000] loss: 0.13948 acc: 94.590%\n",
            "[5,  6000] loss: 0.14501 acc: 94.620%\n",
            "[5,  7000] loss: 0.13134 acc: 95.270%\n",
            "[6,  1000] loss: 0.11630 acc: 95.450%\n",
            "[6,  2000] loss: 0.11305 acc: 95.600%\n",
            "[6,  3000] loss: 0.11861 acc: 95.400%\n",
            "[6,  4000] loss: 0.11567 acc: 95.510%\n",
            "[6,  5000] loss: 0.11145 acc: 95.830%\n",
            "[6,  6000] loss: 0.12121 acc: 95.430%\n",
            "[6,  7000] loss: 0.11921 acc: 95.690%\n",
            "[7,  1000] loss: 0.10468 acc: 95.920%\n",
            "[7,  2000] loss: 0.10101 acc: 96.280%\n",
            "[7,  3000] loss: 0.09974 acc: 96.130%\n",
            "[7,  4000] loss: 0.10018 acc: 96.190%\n",
            "[7,  5000] loss: 0.10915 acc: 95.770%\n",
            "[7,  6000] loss: 0.10596 acc: 95.810%\n",
            "[7,  7000] loss: 0.11181 acc: 95.660%\n",
            "[8,  1000] loss: 0.08912 acc: 96.650%\n",
            "[8,  2000] loss: 0.09356 acc: 96.140%\n",
            "[8,  3000] loss: 0.09872 acc: 96.180%\n",
            "[8,  4000] loss: 0.10305 acc: 96.190%\n",
            "[8,  5000] loss: 0.09419 acc: 96.290%\n",
            "[8,  6000] loss: 0.09451 acc: 96.310%\n",
            "[8,  7000] loss: 0.10040 acc: 96.120%\n",
            "[9,  1000] loss: 0.08436 acc: 96.810%\n",
            "[9,  2000] loss: 0.08688 acc: 96.530%\n",
            "[9,  3000] loss: 0.08253 acc: 96.730%\n",
            "[9,  4000] loss: 0.08656 acc: 96.400%\n",
            "[9,  5000] loss: 0.09081 acc: 96.460%\n",
            "[9,  6000] loss: 0.08735 acc: 96.540%\n",
            "[9,  7000] loss: 0.09166 acc: 96.170%\n",
            "[10,  1000] loss: 0.08316 acc: 96.660%\n",
            "[10,  2000] loss: 0.08385 acc: 96.760%\n",
            "[10,  3000] loss: 0.07748 acc: 96.840%\n",
            "[10,  4000] loss: 0.08189 acc: 96.570%\n",
            "[10,  5000] loss: 0.08034 acc: 96.760%\n",
            "[10,  6000] loss: 0.08328 acc: 96.620%\n",
            "[10,  7000] loss: 0.07713 acc: 96.800%\n",
            "Done!\n"
          ],
          "name": "stdout"
        }
      ]
    },
    {
      "cell_type": "code",
      "metadata": {
        "colab": {
          "base_uri": "https://localhost:8080/",
          "height": 281
        },
        "id": "8rBMdlw4tyl5",
        "outputId": "66361d60-7b15-4414-cd8f-f33d206de1f6"
      },
      "source": [
        "fig = plt.figure()\n",
        "ax = fig.add_subplot(1,1,1)\n",
        "ax.plot(testAcc, color=\"tab:orange\")\n",
        "ax.set_ylim([0,100])\n",
        "ax.set_title(\"Training Accuracy\")\n",
        "plt.show()"
      ],
      "execution_count": 160,
      "outputs": [
        {
          "output_type": "display_data",
          "data": {
            "image/png": "[encoded data removed]",
            "text/plain": [
              "<Figure size 432x288 with 1 Axes>"
            ]
          },
          "metadata": {
            "tags": [],
            "needs_background": "light"
          }
        }
      ]
    },
    {
      "cell_type": "code",
      "metadata": {
        "id": "eGHqZds8g2Et"
      },
      "source": [
        "batch_size = 10\n",
        "dataset = handwrittenCharsDataset(X=conv_val_data, classToNum=invertedLabelDict)\n",
        "val_dl = DataLoader(dataset, batch_size, shuffle=True, pin_memory=True)"
      ],
      "execution_count": 161,
      "outputs": []
    },
    {
      "cell_type": "code",
      "metadata": {
        "colab": {
          "base_uri": "https://localhost:8080/"
        },
        "id": "eHTCjFYWpo_0",
        "outputId": "428d7b65-55f7-40a5-927d-d7a1ae5ce4f4"
      },
      "source": [
        "valLoss = []\n",
        "valAcc = []\n",
        "\n",
        "for epoch in range(3):\n",
        "  running_loss = 0\n",
        "  running_acc = 0\n",
        "  for i, data in enumerate(val_dl, 0):\n",
        "    images, labels = data\n",
        "    images, labels = images.to(device), labels.to(device)\n",
        "\n",
        "    outputs = convModel(images)\n",
        "\n",
        "    running_acc += findAccuracy(outputs, labels)\n",
        "\n",
        "    running_loss += loss.item()\n",
        "    if i % 1000 == 999:\n",
        "      valLoss.append(running_loss)\n",
        "      valAcc.append(running_acc/10)\n",
        "      print(\"[%d, %5d] loss: %.5f acc: %.3f%%\" % (epoch + 1, i + 1, running_loss / 1000, running_acc / 10))\n",
        "      running_loss = 0\n",
        "      running_acc = 0\n",
        "\n",
        "print(\"Done!\")"
      ],
      "execution_count": 163,
      "outputs": [
        {
          "output_type": "stream",
          "text": [
            "[1,  1000] loss: 0.05703 acc: 77.750%\n",
            "[2,  1000] loss: 0.05703 acc: 77.780%\n",
            "[3,  1000] loss: 0.05703 acc: 77.290%\n",
            "Done!\n"
          ],
          "name": "stdout"
        }
      ]
    },
    {
      "cell_type": "code",
      "metadata": {
        "colab": {
          "base_uri": "https://localhost:8080/",
          "height": 281
        },
        "id": "zJOYvuIqqY15",
        "outputId": "7179a597-3511-4814-96eb-000084159868"
      },
      "source": [
        "fig = plt.figure()\n",
        "ax = fig.add_subplot(1,1,1)\n",
        "ax.plot(valAcc, color=\"tab:orange\")\n",
        "ax.set_ylim([0,100])\n",
        "ax.set_title(\"Validation Accuracy\")\n",
        "plt.show()"
      ],
      "execution_count": 164,
      "outputs": [
        {
          "output_type": "display_data",
          "data": {
            "image/png": "[encoded data removed]",
            "text/plain": [
              "<Figure size 432x288 with 1 Axes>"
            ]
          },
          "metadata": {
            "tags": [],
            "needs_background": "light"
          }
        }
      ]
    },
    {
      "cell_type": "code",
      "metadata": {
        "colab": {
          "base_uri": "https://localhost:8080/",
          "height": 66
        },
        "id": "oVZg709ZLzSj",
        "outputId": "703d70d9-4d32-4add-f695-92c2503663f7"
      },
      "source": [
        "testItem, testLabel = next(iter(val_dl))\n",
        "\n",
        "testItem = testItem[0].unsqueeze(0).to(device)\n",
        "testLabel = labelDict[testLabel[0].item()]\n",
        "\n",
        "output = convModel(testItem)\n",
        "# some funny business to get image from tensor to see if guess is reasonable\n",
        "image = testItem[0].cpu().numpy()[0] * 255\n",
        "cv2_imshow(image)\n",
        "y_pred = labelDict[output.argmax(1).item()]\n",
        "print(\"predicted\", y_pred, \"for\", testLabel)"
      ],
      "execution_count": 132,
      "outputs": [
        {
          "output_type": "display_data",
          "data": {
            "image/png": "[encoded data removed]",
            "text/plain": [
              "<PIL.Image.Image image mode=L size=32x32 at 0x7F71B41A4DD0>"
            ]
          },
          "metadata": {
            "tags": []
          }
        },
        {
          "output_type": "stream",
          "text": [
            "predicted P for P\n"
          ],
          "name": "stdout"
        }
      ]
    },
    {
      "cell_type": "code",
      "metadata": {
        "colab": {
          "base_uri": "https://localhost:8080/",
          "height": 164
        },
        "id": "cy5-rUh4mr1g",
        "outputId": "d7ca9c2f-6865-455a-f1fa-95afd89354e5"
      },
      "source": [
        "# experiment with effects of harris corner detection\n",
        "print(\"original image\")\n",
        "input = np.float32(conv_train_data[22001][0])\n",
        "cv2_imshow(input)\n",
        "out = cv2.cornerHarris(input, 2, 3, 0.04)\n",
        "print(\"corner detection\")\n",
        "cv2_imshow(out)\n",
        "combined = input * out\n",
        "print(\"original scaled by corner probabilities\")\n",
        "cv2_imshow(combined)"
      ],
      "execution_count": 12,
      "outputs": [
        {
          "output_type": "stream",
          "text": [
            "original image\n"
          ],
          "name": "stdout"
        },
        {
          "output_type": "display_data",
          "data": {
            "image/png": "[encoded data removed]",
            "text/plain": [
              "<PIL.Image.Image image mode=L size=32x32 at 0x7F02A79750D0>"
            ]
          },
          "metadata": {
            "tags": []
          }
        },
        {
          "output_type": "stream",
          "text": [
            "corner detection\n"
          ],
          "name": "stdout"
        },
        {
          "output_type": "display_data",
          "data": {
            "image/png": "[encoded data removed]",
            "text/plain": [
              "<PIL.Image.Image image mode=L size=32x32 at 0x7F02A7B072D0>"
            ]
          },
          "metadata": {
            "tags": []
          }
        },
        {
          "output_type": "stream",
          "text": [
            "original scaled by corner probabilities\n"
          ],
          "name": "stdout"
        },
        {
          "output_type": "display_data",
          "data": {
            "image/png": "[encoded data removed]",
            "text/plain": [
              "<PIL.Image.Image image mode=L size=32x32 at 0x7F02A7B14510>"
            ]
          },
          "metadata": {
            "tags": []
          }
        }
      ]
    },
    {
      "cell_type": "code",
      "metadata": {
        "id": "PR6r0imQs6NT"
      },
      "source": [
        "# dataset class with corner detection added (may make things more difficult)\n",
        "class handwrittenCharsCornerDataset(Dataset):\n",
        "    def __init__(self, X, classToNum):\n",
        "      self.classToNum = classToNum\n",
        "      self.images = []\n",
        "      self.labels = []\n",
        "      for i in X:\n",
        "        self.images.append(i[0])\n",
        "        self.labels.append(i[1])\n",
        "\n",
        "    def __len__(self):\n",
        "      return len(self.labels)\n",
        "\n",
        "    def __getitem__(self, index):\n",
        "      # apply corner detection to image\n",
        "      image = np.float32(self.images[index])\n",
        "      image = image * cv2.cornerHarris(image, 2, 3, 0.04)\n",
        "\n",
        "      label = tensor(self.classToNum[self.labels[index]])\n",
        "      image = self.transform(image)\n",
        "      sample = [image, label]\n",
        "      return sample\n",
        "    \n",
        "    transform = T.Compose([\n",
        "      T.ToPILImage(),\n",
        "      T.ToTensor()                     \n",
        "    ])"
      ],
      "execution_count": 15,
      "outputs": []
    },
    {
      "cell_type": "code",
      "metadata": {
        "id": "OcUeSxThwk2P"
      },
      "source": [
        "batch_size = 10\n",
        "dataset = handwrittenCharsCornerDataset(X=conv_train_data, classToNum=invertedLabelDict)\n",
        "cornerTrain_dl = DataLoader(dataset, batch_size, shuffle=True, pin_memory=True)"
      ],
      "execution_count": 19,
      "outputs": []
    },
    {
      "cell_type": "code",
      "metadata": {
        "colab": {
          "base_uri": "https://localhost:8080/",
          "height": 117
        },
        "id": "IkuBLN4MxAWP",
        "outputId": "2998d5fd-1271-4ab0-d5ec-8eed52845889"
      },
      "source": [
        "# init new model to use corner detection version of dataset\n",
        "cornerConvModel = convDemoNet(39).to(device)\n",
        "#print(convModel)\n",
        "\n",
        "testItem, testLabel = next(iter(cornerTrain_dl))\n",
        "print(testLabel)\n",
        "print(f\"Feature batch shape: {testItem.size()}\")\n",
        "print(f\"Labels batch shape: {testLabel.size()}\")\n",
        "\n",
        "testItem = testItem[0].unsqueeze(0).to(device)\n",
        "#testLabel = labelDict[testLabel[0].numpy().argmax()]\n",
        "testLabel = labelDict[testLabel.numpy()[0]]\n",
        "\n",
        "# some funny business to get image from tensor to see if guess is reasonable\n",
        "image = testItem[0].cpu().numpy()[0] * 255\n",
        "cv2_imshow(image)\n",
        "\n",
        "output = cornerConvModel(testItem)\n",
        "y_pred = labelDict[output.argmax(1).item()]\n",
        "print(\"predicted\", y_pred, \"for\", testLabel)"
      ],
      "execution_count": 34,
      "outputs": [
        {
          "output_type": "stream",
          "text": [
            "tensor([ 6, 19, 12,  8, 27, 26,  4, 31,  9, 10])\n",
            "Feature batch shape: torch.Size([10, 1, 32, 32])\n",
            "Labels batch shape: torch.Size([10])\n"
          ],
          "name": "stdout"
        },
        {
          "output_type": "display_data",
          "data": {
            "image/png": "[encoded data removed]",
            "text/plain": [
              "<PIL.Image.Image image mode=L size=32x32 at 0x7F02A75EDF50>"
            ]
          },
          "metadata": {
            "tags": []
          }
        },
        {
          "output_type": "stream",
          "text": [
            "predicted G for 3\n"
          ],
          "name": "stdout"
        }
      ]
    },
    {
      "cell_type": "code",
      "metadata": {
        "colab": {
          "base_uri": "https://localhost:8080/"
        },
        "id": "qCCS2yoCxev7",
        "outputId": "d27f2e61-a739-4d7a-ef88-2b47bb3a21e8"
      },
      "source": [
        "import torch.optim as optim\n",
        "lossFunc = nn.CrossEntropyLoss()\n",
        "opt = optim.SGD(cornerConvModel.parameters(), lr=0.001) \n",
        "\n",
        "num_epochs = 10\n",
        "\n",
        "testLoss = []\n",
        "testAcc = []\n",
        "\n",
        "for epoch in range(num_epochs):\n",
        "  running_loss = 0\n",
        "  running_acc = 0\n",
        "  for i, data in enumerate(cornerTrain_dl, 0):\n",
        "    images, labels = data\n",
        "    images, labels = images.to(device), labels.to(device)\n",
        "    \n",
        "    opt.zero_grad()\n",
        "\n",
        "    outputs = cornerConvModel(images)\n",
        "\n",
        "    loss = lossFunc(outputs, labels)\n",
        "    loss.backward()\n",
        "    opt.step()\n",
        "\n",
        "    running_acc += findAccuracy(outputs, labels)\n",
        "\n",
        "    running_loss += loss.item()\n",
        "    if i % 1000 == 999:\n",
        "      testLoss.append(running_loss)\n",
        "      testAcc.append(running_acc/10)\n",
        "      print(\"[%d, %5d] loss: %.5f acc: %.3f%%\" % (epoch + 1, i + 1, running_loss / 1000, running_acc / 10))\n",
        "      running_loss = 0\n",
        "      running_acc = 0\n",
        "\n",
        "print(\"Done!\")"
      ],
      "execution_count": 36,
      "outputs": [
        {
          "output_type": "stream",
          "text": [
            "[1,  1000] loss: 3.48813 acc: 9.250%\n",
            "[1,  2000] loss: 3.09171 acc: 21.420%\n",
            "[1,  3000] loss: 2.43999 acc: 38.900%\n",
            "[1,  4000] loss: 1.69560 acc: 57.960%\n",
            "[1,  5000] loss: 1.15154 acc: 70.660%\n",
            "[1,  6000] loss: 0.80642 acc: 78.910%\n",
            "[1,  7000] loss: 0.64397 acc: 82.070%\n",
            "[2,  1000] loss: 0.45543 acc: 86.250%\n",
            "[2,  2000] loss: 0.42449 acc: 86.810%\n",
            "[2,  3000] loss: 0.38201 acc: 88.060%\n",
            "[2,  4000] loss: 0.36443 acc: 88.480%\n",
            "[2,  5000] loss: 0.34882 acc: 88.560%\n",
            "[2,  6000] loss: 0.33250 acc: 89.400%\n",
            "[2,  7000] loss: 0.31253 acc: 89.780%\n",
            "[3,  1000] loss: 0.25881 acc: 91.320%\n",
            "[3,  2000] loss: 0.24508 acc: 91.910%\n",
            "[3,  3000] loss: 0.25392 acc: 91.810%\n",
            "[3,  4000] loss: 0.24234 acc: 92.300%\n",
            "[3,  5000] loss: 0.22831 acc: 92.370%\n",
            "[3,  6000] loss: 0.23015 acc: 91.840%\n",
            "[3,  7000] loss: 0.22524 acc: 92.130%\n",
            "[4,  1000] loss: 0.18592 acc: 93.370%\n",
            "[4,  2000] loss: 0.18487 acc: 93.410%\n",
            "[4,  3000] loss: 0.19161 acc: 93.160%\n",
            "[4,  4000] loss: 0.19135 acc: 93.170%\n",
            "[4,  5000] loss: 0.17116 acc: 93.770%\n",
            "[4,  6000] loss: 0.18297 acc: 93.530%\n",
            "[4,  7000] loss: 0.17526 acc: 93.740%\n",
            "[5,  1000] loss: 0.14548 acc: 94.860%\n",
            "[5,  2000] loss: 0.14831 acc: 94.670%\n",
            "[5,  3000] loss: 0.14780 acc: 94.590%\n",
            "[5,  4000] loss: 0.14821 acc: 94.520%\n",
            "[5,  5000] loss: 0.14744 acc: 94.530%\n",
            "[5,  6000] loss: 0.15874 acc: 94.080%\n",
            "[5,  7000] loss: 0.14599 acc: 94.460%\n",
            "[6,  1000] loss: 0.12985 acc: 95.210%\n",
            "[6,  2000] loss: 0.11758 acc: 95.590%\n",
            "[6,  3000] loss: 0.11709 acc: 95.530%\n",
            "[6,  4000] loss: 0.13171 acc: 94.790%\n",
            "[6,  5000] loss: 0.12646 acc: 95.280%\n",
            "[6,  6000] loss: 0.12216 acc: 95.120%\n",
            "[6,  7000] loss: 0.13481 acc: 94.670%\n",
            "[7,  1000] loss: 0.10594 acc: 95.970%\n",
            "[7,  2000] loss: 0.10445 acc: 95.930%\n",
            "[7,  3000] loss: 0.10477 acc: 95.980%\n",
            "[7,  4000] loss: 0.09690 acc: 96.250%\n",
            "[7,  5000] loss: 0.11135 acc: 95.790%\n",
            "[7,  6000] loss: 0.11265 acc: 95.790%\n",
            "[7,  7000] loss: 0.10775 acc: 95.920%\n",
            "[8,  1000] loss: 0.09036 acc: 96.560%\n",
            "[8,  2000] loss: 0.08508 acc: 96.700%\n",
            "[8,  3000] loss: 0.09089 acc: 96.400%\n",
            "[8,  4000] loss: 0.09593 acc: 96.180%\n",
            "[8,  5000] loss: 0.09575 acc: 96.410%\n",
            "[8,  6000] loss: 0.09462 acc: 96.460%\n",
            "[8,  7000] loss: 0.09801 acc: 96.220%\n",
            "[9,  1000] loss: 0.07917 acc: 96.910%\n",
            "[9,  2000] loss: 0.08292 acc: 96.960%\n",
            "[9,  3000] loss: 0.08472 acc: 96.770%\n",
            "[9,  4000] loss: 0.08130 acc: 96.960%\n",
            "[9,  5000] loss: 0.08461 acc: 96.670%\n",
            "[9,  6000] loss: 0.08319 acc: 96.670%\n",
            "[9,  7000] loss: 0.08743 acc: 96.680%\n",
            "[10,  1000] loss: 0.07544 acc: 97.220%\n",
            "[10,  2000] loss: 0.07274 acc: 97.190%\n",
            "[10,  3000] loss: 0.07292 acc: 96.960%\n",
            "[10,  4000] loss: 0.07555 acc: 97.020%\n",
            "[10,  5000] loss: 0.07598 acc: 97.070%\n",
            "[10,  6000] loss: 0.07617 acc: 97.060%\n",
            "[10,  7000] loss: 0.08406 acc: 96.680%\n",
            "Done!\n"
          ],
          "name": "stdout"
        }
      ]
    },
    {
      "cell_type": "code",
      "metadata": {
        "colab": {
          "base_uri": "https://localhost:8080/",
          "height": 281
        },
        "id": "PqU_gYgn4LTl",
        "outputId": "4da6210d-5674-4135-903d-eb6398da32b7"
      },
      "source": [
        "fig = plt.figure()\n",
        "ax = fig.add_subplot(1,1,1)\n",
        "ax.plot(testAcc, color=\"tab:orange\")\n",
        "ax.set_ylim([0,100])\n",
        "ax.set_title(\"Training Accuracy\")\n",
        "plt.show()"
      ],
      "execution_count": 37,
      "outputs": [
        {
          "output_type": "display_data",
          "data": {
            "image/png": "[encoded data removed]",
            "text/plain": [
              "<Figure size 432x288 with 1 Axes>"
            ]
          },
          "metadata": {
            "tags": [],
            "needs_background": "light"
          }
        }
      ]
    },
    {
      "cell_type": "code",
      "metadata": {
        "id": "iDOI58oC4W2A"
      },
      "source": [
        "batch_size = 10\n",
        "dataset = handwrittenCharsCornerDataset(X=conv_val_data, classToNum=invertedLabelDict)\n",
        "cornerVal_dl = DataLoader(dataset, batch_size, shuffle=True, pin_memory=True)"
      ],
      "execution_count": 38,
      "outputs": []
    },
    {
      "cell_type": "code",
      "metadata": {
        "colab": {
          "base_uri": "https://localhost:8080/"
        },
        "id": "CnCaIYHV4SBV",
        "outputId": "085c839f-5f8f-4ec1-eaaa-249fefd66964"
      },
      "source": [
        "valLoss = []\n",
        "valAcc = []\n",
        "\n",
        "for epoch in range(3):\n",
        "  running_loss = 0\n",
        "  running_acc = 0\n",
        "  for i, data in enumerate(cornerVal_dl, 0):\n",
        "    images, labels = data\n",
        "    images, labels = images.to(device), labels.to(device)\n",
        "\n",
        "    outputs = cornerConvModel(images)\n",
        "\n",
        "    running_acc += findAccuracy(outputs, labels)\n",
        "\n",
        "    running_loss += loss.item()\n",
        "    if i % 1000 == 999:\n",
        "      valLoss.append(running_loss)\n",
        "      valAcc.append(running_acc/10)\n",
        "      print(\"[%d, %5d] loss: %.5f acc: %.3f%%\" % (epoch + 1, i + 1, running_loss / 1000, running_acc / 10))\n",
        "      running_loss = 0\n",
        "      running_acc = 0\n",
        "\n",
        "print(\"Done!\")"
      ],
      "execution_count": 39,
      "outputs": [
        {
          "output_type": "stream",
          "text": [
            "[1,  1000] loss: 0.00123 acc: 76.940%\n",
            "[2,  1000] loss: 0.00123 acc: 77.500%\n",
            "[3,  1000] loss: 0.00123 acc: 77.040%\n",
            "Done!\n"
          ],
          "name": "stdout"
        }
      ]
    },
    {
      "cell_type": "code",
      "metadata": {
        "colab": {
          "base_uri": "https://localhost:8080/",
          "height": 281
        },
        "id": "UBTqd1u_4rWH",
        "outputId": "5e01b0b9-c487-477a-b12e-1ef97e5ab4d2"
      },
      "source": [
        "fig = plt.figure()\n",
        "ax = fig.add_subplot(1,1,1)\n",
        "ax.plot(valAcc, color=\"tab:orange\")\n",
        "ax.set_ylim([0,100])\n",
        "ax.set_title(\"Validation Accuracy\")\n",
        "plt.show()"
      ],
      "execution_count": 47,
      "outputs": [
        {
          "output_type": "display_data",
          "data": {
            "image/png": "[encoded data removed]",
            "text/plain": [
              "<Figure size 432x288 with 1 Axes>"
            ]
          },
          "metadata": {
            "tags": [],
            "needs_background": "light"
          }
        }
      ]
    }
  ]
}